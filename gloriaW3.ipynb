{
  "nbformat": 4,
  "nbformat_minor": 0,
  "metadata": {
    "colab": {
      "name": "gloriaW3.ipynb",
      "provenance": [],
      "collapsed_sections": [
        "Cqvbl6HLJHn8",
        "5CD0IgD7aO0a",
        "bB3isJvXajhu"
      ],
      "toc_visible": true,
      "authorship_tag": "ABX9TyPBW/dhE0cB1jaeP9XtAcAq",
      "include_colab_link": true
    },
    "kernelspec": {
      "display_name": "Python 3",
      "name": "python3"
    },
    "accelerator": "GPU"
  },
  "cells": [
    {
      "cell_type": "markdown",
      "metadata": {
        "id": "view-in-github",
        "colab_type": "text"
      },
      "source": [
        "<a href=\"https://colab.research.google.com/github/2003006/PYTHON-W3IP/blob/main/gloriaW3.ipynb\" target=\"_parent\"><img src=\"https://colab.research.google.com/assets/colab-badge.svg\" alt=\"Open In Colab\"/></a>"
      ]
    },
    {
      "cell_type": "markdown",
      "metadata": {
        "id": "KOyqOInhAo2g"
      },
      "source": [
        "#Loading my datasets"
      ]
    },
    {
      "cell_type": "code",
      "metadata": {
        "colab": {
          "base_uri": "https://localhost:8080/",
          "height": 107
        },
        "id": "_EJ4wOeCwe-A",
        "outputId": "2e296b07-f2bb-410a-e03d-efe678c29449"
      },
      "source": [
        "import pandas as pd\n",
        "data = '/content/cells_geo.csv'\n",
        "df= pd.read_csv(r'/content/cells_geo.csv',sep=';')\n",
        "\n",
        "df.head(2)"
      ],
      "execution_count": 2,
      "outputs": [
        {
          "output_type": "execute_result",
          "data": {
            "text/html": [
              "<div>\n",
              "<style scoped>\n",
              "    .dataframe tbody tr th:only-of-type {\n",
              "        vertical-align: middle;\n",
              "    }\n",
              "\n",
              "    .dataframe tbody tr th {\n",
              "        vertical-align: top;\n",
              "    }\n",
              "\n",
              "    .dataframe thead th {\n",
              "        text-align: right;\n",
              "    }\n",
              "</style>\n",
              "<table border=\"1\" class=\"dataframe\">\n",
              "  <thead>\n",
              "    <tr style=\"text-align: right;\">\n",
              "      <th></th>\n",
              "      <th>Unnamed: 0</th>\n",
              "      <th>VILLES</th>\n",
              "      <th>STATUS</th>\n",
              "      <th>LOCALISATION</th>\n",
              "      <th>DECOUPZONE</th>\n",
              "      <th>ZONENAME</th>\n",
              "      <th>LONGITUDE</th>\n",
              "      <th>LATITUDE</th>\n",
              "      <th>REGION</th>\n",
              "      <th>AREA</th>\n",
              "      <th>CELL_ID</th>\n",
              "      <th>SITE_CODE</th>\n",
              "    </tr>\n",
              "  </thead>\n",
              "  <tbody>\n",
              "    <tr>\n",
              "      <th>0</th>\n",
              "      <td>0</td>\n",
              "      <td>ADJAME</td>\n",
              "      <td>In Service</td>\n",
              "      <td>ABIDJAN</td>\n",
              "      <td>\"Abidjan_EST</td>\n",
              "      <td>AGBANNEW</td>\n",
              "      <td>-4.000667</td>\n",
              "      <td>5.368194</td>\n",
              "      <td>LAGUNE</td>\n",
              "      <td>NaN</td>\n",
              "      <td>fbb2e75af3</td>\n",
              "      <td>0bb492ef17</td>\n",
              "    </tr>\n",
              "    <tr>\n",
              "      <th>1</th>\n",
              "      <td>1</td>\n",
              "      <td>ADJAME</td>\n",
              "      <td>In Service</td>\n",
              "      <td>ABIDJAN</td>\n",
              "      <td>\"Abidjan_EST</td>\n",
              "      <td>AGBANNEW</td>\n",
              "      <td>-4.000667</td>\n",
              "      <td>5.368194</td>\n",
              "      <td>LAGUNE</td>\n",
              "      <td>NaN</td>\n",
              "      <td>1502501d78</td>\n",
              "      <td>0bb492ef17</td>\n",
              "    </tr>\n",
              "  </tbody>\n",
              "</table>\n",
              "</div>"
            ],
            "text/plain": [
              "   Unnamed: 0  VILLES      STATUS  ... AREA     CELL_ID   SITE_CODE\n",
              "0           0  ADJAME  In Service  ...  NaN  fbb2e75af3  0bb492ef17\n",
              "1           1  ADJAME  In Service  ...  NaN  1502501d78  0bb492ef17\n",
              "\n",
              "[2 rows x 12 columns]"
            ]
          },
          "metadata": {
            "tags": []
          },
          "execution_count": 2
        }
      ]
    },
    {
      "cell_type": "code",
      "metadata": {
        "colab": {
          "base_uri": "https://localhost:8080/",
          "height": 107
        },
        "id": "Sul7pzMr-nZg",
        "outputId": "37e2e9c8-f5bb-4167-e948-3d81e81f1c65"
      },
      "source": [
        "data1= '/content/cells_geo_description.xlsx'\n",
        "df1= pd.read_excel(data1)\n",
        "df1.head(2)"
      ],
      "execution_count": 3,
      "outputs": [
        {
          "output_type": "execute_result",
          "data": {
            "text/html": [
              "<div>\n",
              "<style scoped>\n",
              "    .dataframe tbody tr th:only-of-type {\n",
              "        vertical-align: middle;\n",
              "    }\n",
              "\n",
              "    .dataframe tbody tr th {\n",
              "        vertical-align: top;\n",
              "    }\n",
              "\n",
              "    .dataframe thead th {\n",
              "        text-align: right;\n",
              "    }\n",
              "</style>\n",
              "<table border=\"1\" class=\"dataframe\">\n",
              "  <thead>\n",
              "    <tr style=\"text-align: right;\">\n",
              "      <th></th>\n",
              "      <th>Column name</th>\n",
              "      <th>Description</th>\n",
              "      <th>Format</th>\n",
              "    </tr>\n",
              "  </thead>\n",
              "  <tbody>\n",
              "    <tr>\n",
              "      <th>0</th>\n",
              "      <td>VILLES</td>\n",
              "      <td>City</td>\n",
              "      <td>String</td>\n",
              "    </tr>\n",
              "    <tr>\n",
              "      <th>1</th>\n",
              "      <td>STATUS</td>\n",
              "      <td>In Service or not</td>\n",
              "      <td>String</td>\n",
              "    </tr>\n",
              "  </tbody>\n",
              "</table>\n",
              "</div>"
            ],
            "text/plain": [
              "  Column name        Description  Format\n",
              "0      VILLES               City  String\n",
              "1      STATUS  In Service or not  String"
            ]
          },
          "metadata": {
            "tags": []
          },
          "execution_count": 3
        }
      ]
    },
    {
      "cell_type": "code",
      "metadata": {
        "colab": {
          "base_uri": "https://localhost:8080/",
          "height": 107
        },
        "id": "E1mjQJ06-9mn",
        "outputId": "df69fabd-c654-4e42-d098-1774382b1276"
      },
      "source": [
        "data2 = '/content/CDR_description.xlsx'\n",
        "df2 = pd.read_excel(data2)\n",
        "df2.head(2)"
      ],
      "execution_count": 4,
      "outputs": [
        {
          "output_type": "execute_result",
          "data": {
            "text/html": [
              "<div>\n",
              "<style scoped>\n",
              "    .dataframe tbody tr th:only-of-type {\n",
              "        vertical-align: middle;\n",
              "    }\n",
              "\n",
              "    .dataframe tbody tr th {\n",
              "        vertical-align: top;\n",
              "    }\n",
              "\n",
              "    .dataframe thead th {\n",
              "        text-align: right;\n",
              "    }\n",
              "</style>\n",
              "<table border=\"1\" class=\"dataframe\">\n",
              "  <thead>\n",
              "    <tr style=\"text-align: right;\">\n",
              "      <th></th>\n",
              "      <th>Column name</th>\n",
              "      <th>Description</th>\n",
              "      <th>Format</th>\n",
              "    </tr>\n",
              "  </thead>\n",
              "  <tbody>\n",
              "    <tr>\n",
              "      <th>0</th>\n",
              "      <td>PRODUCT</td>\n",
              "      <td>Voice or SMS</td>\n",
              "      <td>String</td>\n",
              "    </tr>\n",
              "    <tr>\n",
              "      <th>1</th>\n",
              "      <td>VALUE</td>\n",
              "      <td>Billing price</td>\n",
              "      <td>Integer</td>\n",
              "    </tr>\n",
              "  </tbody>\n",
              "</table>\n",
              "</div>"
            ],
            "text/plain": [
              "  Column name    Description   Format\n",
              "0     PRODUCT   Voice or SMS   String\n",
              "1       VALUE  Billing price  Integer"
            ]
          },
          "metadata": {
            "tags": []
          },
          "execution_count": 4
        }
      ]
    },
    {
      "cell_type": "code",
      "metadata": {
        "colab": {
          "base_uri": "https://localhost:8080/",
          "height": 107
        },
        "id": "bAayx5Oe_h9y",
        "outputId": "f9385059-7d90-4efe-ce60-474085ec402a"
      },
      "source": [
        "data3 = 'MoringaSchool_CB_CDR_20120507.csv'\n",
        "df3 = pd.read_csv(data3)\n",
        "df3.head(2)\n"
      ],
      "execution_count": 5,
      "outputs": [
        {
          "output_type": "execute_result",
          "data": {
            "text/html": [
              "<div>\n",
              "<style scoped>\n",
              "    .dataframe tbody tr th:only-of-type {\n",
              "        vertical-align: middle;\n",
              "    }\n",
              "\n",
              "    .dataframe tbody tr th {\n",
              "        vertical-align: top;\n",
              "    }\n",
              "\n",
              "    .dataframe thead th {\n",
              "        text-align: right;\n",
              "    }\n",
              "</style>\n",
              "<table border=\"1\" class=\"dataframe\">\n",
              "  <thead>\n",
              "    <tr style=\"text-align: right;\">\n",
              "      <th></th>\n",
              "      <th>PRODUTC</th>\n",
              "      <th>VALUE</th>\n",
              "      <th>DATETIME</th>\n",
              "      <th>CELL_ON_SITE</th>\n",
              "      <th>DW_A_NUMBER_INT</th>\n",
              "      <th>DW_B_NUMBER_INT</th>\n",
              "      <th>COUNTRY_A</th>\n",
              "      <th>COUNTRY_B</th>\n",
              "      <th>CELL_ID</th>\n",
              "      <th>SITE_ID</th>\n",
              "    </tr>\n",
              "  </thead>\n",
              "  <tbody>\n",
              "    <tr>\n",
              "      <th>0</th>\n",
              "      <td>Voice</td>\n",
              "      <td>0</td>\n",
              "      <td>2012-05-06 23:04:37.0</td>\n",
              "      <td>1</td>\n",
              "      <td>49fae048b547780</td>\n",
              "      <td>1a49f8b0ded9de6</td>\n",
              "      <td>19e2e</td>\n",
              "      <td>19e2e</td>\n",
              "      <td>/TJNe+Mmtu</td>\n",
              "      <td>/TJNe+Mmtu</td>\n",
              "    </tr>\n",
              "    <tr>\n",
              "      <th>1</th>\n",
              "      <td>sms</td>\n",
              "      <td>0</td>\n",
              "      <td>2012-05-06 23:05:25.0</td>\n",
              "      <td>0</td>\n",
              "      <td>7a54a6eaee19e65</td>\n",
              "      <td>93343ba6e41af95</td>\n",
              "      <td>19e2e</td>\n",
              "      <td>19e2e</td>\n",
              "      <td>/+cKZKIp41</td>\n",
              "      <td>/+cKZKIp41</td>\n",
              "    </tr>\n",
              "  </tbody>\n",
              "</table>\n",
              "</div>"
            ],
            "text/plain": [
              "  PRODUTC  VALUE               DATETIME  ... COUNTRY_B     CELL_ID     SITE_ID\n",
              "0   Voice      0  2012-05-06 23:04:37.0  ...     19e2e  /TJNe+Mmtu  /TJNe+Mmtu\n",
              "1     sms      0  2012-05-06 23:05:25.0  ...     19e2e  /+cKZKIp41  /+cKZKIp41\n",
              "\n",
              "[2 rows x 10 columns]"
            ]
          },
          "metadata": {
            "tags": []
          },
          "execution_count": 5
        }
      ]
    },
    {
      "cell_type": "code",
      "metadata": {
        "colab": {
          "base_uri": "https://localhost:8080/",
          "height": 107
        },
        "id": "Le-bw2sqEMsV",
        "outputId": "c5e4bf38-004c-4d55-ea19-9764e1be3ecb"
      },
      "source": [
        "import pandas as pd\n",
        "data4 = 'MoringaSchool_CB_CDR_20120509.csv'\n",
        "df4 = pd.read_csv(data4)\n",
        "df4.head(2)"
      ],
      "execution_count": 7,
      "outputs": [
        {
          "output_type": "execute_result",
          "data": {
            "text/html": [
              "<div>\n",
              "<style scoped>\n",
              "    .dataframe tbody tr th:only-of-type {\n",
              "        vertical-align: middle;\n",
              "    }\n",
              "\n",
              "    .dataframe tbody tr th {\n",
              "        vertical-align: top;\n",
              "    }\n",
              "\n",
              "    .dataframe thead th {\n",
              "        text-align: right;\n",
              "    }\n",
              "</style>\n",
              "<table border=\"1\" class=\"dataframe\">\n",
              "  <thead>\n",
              "    <tr style=\"text-align: right;\">\n",
              "      <th></th>\n",
              "      <th>PRODUCT</th>\n",
              "      <th>VALUE</th>\n",
              "      <th>DATE_TIME</th>\n",
              "      <th>CELL_ON_SITE</th>\n",
              "      <th>DW_A_NUMBER_INT</th>\n",
              "      <th>DW_B_NUMBER_INT</th>\n",
              "      <th>COUNTRY_A</th>\n",
              "      <th>COUNTRY_B</th>\n",
              "      <th>CELLID</th>\n",
              "      <th>SIET_ID</th>\n",
              "    </tr>\n",
              "  </thead>\n",
              "  <tbody>\n",
              "    <tr>\n",
              "      <th>0</th>\n",
              "      <td>Voice</td>\n",
              "      <td>61.0</td>\n",
              "      <td>2012-05-08 23:01:28.0</td>\n",
              "      <td>2</td>\n",
              "      <td>966f68353622feb</td>\n",
              "      <td>ffd53a3bb2db6f1</td>\n",
              "      <td>19e2e</td>\n",
              "      <td>19e2e</td>\n",
              "      <td>+38u2u/rfx</td>\n",
              "      <td>+38u2u/rfx</td>\n",
              "    </tr>\n",
              "    <tr>\n",
              "      <th>1</th>\n",
              "      <td>sms</td>\n",
              "      <td>0.0</td>\n",
              "      <td>2012-05-08 23:01:31.0</td>\n",
              "      <td>1</td>\n",
              "      <td>a0a597384c612d7</td>\n",
              "      <td>cf3b218f1dde792</td>\n",
              "      <td>19e2e</td>\n",
              "      <td>19e2e</td>\n",
              "      <td>+Fs4mTvdKx</td>\n",
              "      <td>+Fs4mTvdKx</td>\n",
              "    </tr>\n",
              "  </tbody>\n",
              "</table>\n",
              "</div>"
            ],
            "text/plain": [
              "  PRODUCT  VALUE              DATE_TIME  ... COUNTRY_B      CELLID     SIET_ID\n",
              "0   Voice   61.0  2012-05-08 23:01:28.0  ...     19e2e  +38u2u/rfx  +38u2u/rfx\n",
              "1     sms    0.0  2012-05-08 23:01:31.0  ...     19e2e  +Fs4mTvdKx  +Fs4mTvdKx\n",
              "\n",
              "[2 rows x 10 columns]"
            ]
          },
          "metadata": {
            "tags": []
          },
          "execution_count": 7
        }
      ]
    },
    {
      "cell_type": "code",
      "metadata": {
        "colab": {
          "base_uri": "https://localhost:8080/",
          "height": 107
        },
        "id": "da9yWie4iL30",
        "outputId": "b9c4178d-c90b-47b7-9709-9cf5383fd58d"
      },
      "source": [
        "data5 = 'MoringaSchool_CB_CDR_20120508.csv'\n",
        "df5 = pd.read_csv(data5)\n",
        "df5.head(2) "
      ],
      "execution_count": 6,
      "outputs": [
        {
          "output_type": "execute_result",
          "data": {
            "text/html": [
              "<div>\n",
              "<style scoped>\n",
              "    .dataframe tbody tr th:only-of-type {\n",
              "        vertical-align: middle;\n",
              "    }\n",
              "\n",
              "    .dataframe tbody tr th {\n",
              "        vertical-align: top;\n",
              "    }\n",
              "\n",
              "    .dataframe thead th {\n",
              "        text-align: right;\n",
              "    }\n",
              "</style>\n",
              "<table border=\"1\" class=\"dataframe\">\n",
              "  <thead>\n",
              "    <tr style=\"text-align: right;\">\n",
              "      <th></th>\n",
              "      <th>PRODUCT</th>\n",
              "      <th>VALUE</th>\n",
              "      <th>DATE_TIME</th>\n",
              "      <th>CELL_ON_SITE</th>\n",
              "      <th>DW_A_NUMBER</th>\n",
              "      <th>DW_B_NUMBER</th>\n",
              "      <th>COUNTRY_A</th>\n",
              "      <th>COUNTRY_B</th>\n",
              "      <th>CELL_ID</th>\n",
              "      <th>SITE_ID</th>\n",
              "    </tr>\n",
              "  </thead>\n",
              "  <tbody>\n",
              "    <tr>\n",
              "      <th>0</th>\n",
              "      <td>sms</td>\n",
              "      <td>0</td>\n",
              "      <td>2012-05-07 23:02:06.0</td>\n",
              "      <td>2</td>\n",
              "      <td>32255675c3b6fe3</td>\n",
              "      <td>1aa7ae01386e9fb</td>\n",
              "      <td>19e2e</td>\n",
              "      <td>19e2e</td>\n",
              "      <td>+854AcBQT2</td>\n",
              "      <td>+854AcBQT2</td>\n",
              "    </tr>\n",
              "    <tr>\n",
              "      <th>1</th>\n",
              "      <td>Voice</td>\n",
              "      <td>0</td>\n",
              "      <td>2012-05-07 23:03:44.0</td>\n",
              "      <td>1</td>\n",
              "      <td>ff16d6ac74c1c64</td>\n",
              "      <td>87d87309c15a8c9</td>\n",
              "      <td>19e2e</td>\n",
              "      <td>19e2e</td>\n",
              "      <td>+854AcBQT2</td>\n",
              "      <td>+854AcBQT2</td>\n",
              "    </tr>\n",
              "  </tbody>\n",
              "</table>\n",
              "</div>"
            ],
            "text/plain": [
              "  PRODUCT  VALUE              DATE_TIME  ... COUNTRY_B     CELL_ID     SITE_ID\n",
              "0     sms      0  2012-05-07 23:02:06.0  ...     19e2e  +854AcBQT2  +854AcBQT2\n",
              "1   Voice      0  2012-05-07 23:03:44.0  ...     19e2e  +854AcBQT2  +854AcBQT2\n",
              "\n",
              "[2 rows x 10 columns]"
            ]
          },
          "metadata": {
            "tags": []
          },
          "execution_count": 6
        }
      ]
    },
    {
      "cell_type": "markdown",
      "metadata": {
        "id": "Cqvbl6HLJHn8"
      },
      "source": [
        "#Exploration\n"
      ]
    },
    {
      "cell_type": "markdown",
      "metadata": {
        "id": "LRqGGSo2OQvB"
      },
      "source": [
        "Listing unique valus for each column in cells_geo.csv dataset\n"
      ]
    },
    {
      "cell_type": "code",
      "metadata": {
        "colab": {
          "base_uri": "https://localhost:8080/"
        },
        "id": "4WBJMj7aGs39",
        "outputId": "67887760-7619-42e3-d78b-10051e99fadd"
      },
      "source": [
        "#unique values in each column of cells_geo.csv dataset\n",
        "print(df.City.unique())\n",
        "print(df.Status.unique())\n",
        "print(df.Locality.unique())\n",
        "print(df.Geographical_Zone.unique())\n",
        "print(df.Zone_Name.unique())\n",
        "print(df.Longitude.unique())\n",
        "print(df.Latitude.unique())\n",
        "print(df.Region.unique())\n",
        "print(df.Area.unique())\n",
        "print(df.Cell_ID.unique())\n",
        "print(df.Cell_ID.unique())\n"
      ],
      "execution_count": null,
      "outputs": [
        {
          "output_type": "stream",
          "text": [
            "['ADJAME' 'ASSINIE' 'KRIKOREA' 'ABOBO' 'BINGERVILLE' 'PLATEAU' 'DALOA'\n",
            " 'ABENGOUROU' 'ATTECOUBE' 'ABOISSO COMOE' 'ABOISSO' 'BONGOUANOU'\n",
            " 'ABONGOUA' 'ABOUDEKOUASSIKRO' 'ABRONAMOUE' 'YOPOUGON' 'ADAOU' 'ADDAH'\n",
            " 'ADEBEM' 'ADIAKE' 'ADJAMENE' 'PORT-BOUET' 'ADZOPE' 'AFFERY' 'COCODY'\n",
            " 'AGBOVILLE' 'AGNIBILEKRO' 'AGONDA' 'AGOU' 'MARCORY' 'AHIZABRO' 'AHOUANOU'\n",
            " 'BOUAKE' 'AKOBOISSUE' 'AKOUPE' 'AKOUYAKRO' 'AKRADJO' 'KOUMASSI' 'ALEPE'\n",
            " 'ALERIA' 'BAMORO' 'ALLOKOI' 'ANANDA' 'ANDO' 'ANDOKOKRENOU' 'ANIANSUE'\n",
            " 'ANOUMABA' 'ANYAMA' 'AOUNIANFOUTOU' 'APPOISSO' 'ARRAH' 'ASSIKOI'\n",
            " 'ASSUEFRY' 'ATTIGUEHI' 'ATTINGUIE' 'ATTROBROU' 'AYAME' 'AYAPRIKRO'\n",
            " 'AZAGUIE' 'BACANDA' 'BADIKAHA' 'BAGOHOUO' 'BAHOMPA' 'BACOUBLY' 'BALEKO'\n",
            " 'SAN-PEDRO' 'BANADJE' 'BANANKORO' 'BANDAKANY' 'BANDIAHI' 'BANGOLO'\n",
            " 'BANIA' 'BANTEAPLEU' 'BAOUBLI' 'YAMOUSSOUKRO' 'GRAND-BASSAM' 'BAYOTA'\n",
            " 'BAZRA NATTIS' 'BECEDIBRIGNAN' 'BEDIALA' 'BEKOUEFIN' 'BENGASSOU' 'BEOUE'\n",
            " 'BEOUMI' 'BETTIE' 'BIANKOUMA' 'BIANOUAN' 'BIELOU-CARREFOUR' 'BILIMONO'\n",
            " 'BINAO' 'BIN HOUNIEN' 'BLAHOU' 'BLANFLA' 'DIANOUFLA' 'BLE' 'BLESSEGUE'\n",
            " 'BLOLEQUIN' 'BOCANDA' 'BODO' 'BODOKRO' 'BOGUEDIA' 'BOLI' 'BONAHOUIN'\n",
            " 'BONDOUKOU' 'BONGO' 'BONGUERA' 'BONIEREDOUGOU' 'BONIKRO' 'BONON' 'BONOUA'\n",
            " 'BONOUFLA' 'BOOKO' 'BORON' 'BOROTOU' 'BOROTOUKRO' 'BOTRO' 'BOUADIKRO'\n",
            " 'BOUAFLE' 'BOUADOUGOU' 'BOUAPE' 'BOUGOU' 'BOUNA' 'BOUNAFLA' 'BOUNDIALI'\n",
            " 'BOZI' 'BROBO' 'BROFFOUEDOU' 'BROFODOUME' 'BROU AKPASSOU' 'BUYO' 'CECHI'\n",
            " 'CHIEPO' 'TREICHVILLE' 'COLLINEKASSEREGUE' 'KETEKRE' 'DABADOUGOU'\n",
            " 'DABAKALA' 'DABOU' 'DABOUYO' 'DAGADJI' 'DAGOUAHIO' 'DAHIRI'\n",
            " 'DAIRO/DIDIZO' 'DAKPADOU' 'DAME' 'DANANE' 'DANANON' 'DANGUIRA' 'DANIA'\n",
            " 'DAOUKRO' 'DASSIOKO' 'DIABO' 'DIAMARAKRO' 'DIANGOKRO' 'DIANRA'\n",
            " 'DIANRAVILLAGE' 'DIARABANA' 'DIARAKRO' 'DIAWALA' 'DIDIEVI' 'DIDOKO'\n",
            " 'DIEGONEFLA' 'DIEOUZON' 'DIGNAGO' 'DIKODOUGOU' 'DIMBOKRO'\n",
            " 'DIOULATIEDOUGOU' 'DIVO' 'DIVO PALMCI' 'DJASSANOU' 'DJEBONOUA'\n",
            " 'DJEMISSIKRO' 'DJENIDOUFLA' 'DJIBROSSO' 'DJI' 'DJOUKOUYO' 'DOKE' 'DOROPO'\n",
            " 'DOTENZIA' 'DOUFREBO' 'DOUGOUDOU SODEMI' 'DOUGROUPALEGNOA' 'DUEKOUE'\n",
            " 'EBIKRO' 'EHANIA' 'ELLIBOU' 'HIRE' 'ETTROKRO' 'ETUEBOUE' 'FACOBLY'\n",
            " 'FADYADOUGOU' 'FEREDOUGOU' 'FERKE' 'FLAKIE' 'FOUMBOLO' 'FOUNGBESSO'\n",
            " 'FRESCO' 'FRONAN' 'GABIADJI' 'GADOUAN' 'GAGNOA' 'GAZIBOUO' 'GBAGBAM'\n",
            " 'GBAPLEU' 'GRAND BEREBY' 'GBELEBAN' 'GBETEGUELA' 'GBONNE' 'GRAND LAHOU'\n",
            " 'GLIGBEUADJI' 'GNABOYA' 'GNAGBODOUGNOA' 'GNAMONO' 'GNIPI' 'GOHITAFLA'\n",
            " 'GOMENEBERI' 'GONATE' 'GOULIA' 'GRAND-ZATRY' 'GROBIASSOUME' 'GUEHIEBLY'\n",
            " 'GUESSABO' 'GUESSIGUIE' 'GUEYO' 'GUEZON' 'GUEZON TAHOUAKE' 'GUIBEROUA'\n",
            " 'GUIEMBE' 'GUIGLO' 'GUINKIN' 'GUINTEGUELA' 'GUITRY' 'HEREMANKONO'\n",
            " 'HERMANKONONO/DIES' 'IBOGUHE' 'IDEFOR' 'ILESBOULEY' 'IROBO' 'ISSIA'\n",
            " 'ITTY' 'JACQUEVILLE' 'KAHANSO' 'KAKOHORO' 'KALAKALA' 'KAMELE' 'KAMORO'\n",
            " 'KANAKONO' 'KANI' 'KANOROBA' 'KANZRA' 'KASSERE' 'KATIOLA' 'KEIBLA'\n",
            " 'KETESSO' 'KETRO BASSAM' 'KIMBIRILA NORD' 'KIMBIRILA SUD' 'KLOTOU'\n",
            " 'KOBEDAIGOURE' 'KODIOSSOU' 'KODJINAN' 'KOFFI AMONKRO' 'KOKOUMBO' 'KOLIA'\n",
            " 'KOMBORODOUGOU' 'KONAHIRI' 'KONEDOUGOU' 'KONG' 'KONGASSO' 'KONI'\n",
            " 'KONONFLA' 'KONTROU' 'KOONAN' 'KOREA' 'KORHOGO' 'KORO' 'KOSSANDJI'\n",
            " 'KOSSOU' 'KOTABLEA' 'KOTOUBA' 'KOTOULA' 'KOUASSIDATEKRO'\n",
            " 'KOUASSIKOUASSIKRO' 'KOUEGO' 'KOUIBLY' 'KOUN-FAO' 'KOUNTIGUISSO' 'KOUTO'\n",
            " 'KOYOKRO' 'KPAPEKOU' 'KPOUEBO' 'KRINJABO' 'KRIZABAHIO' 'LAFOKPOKAHA'\n",
            " 'DEDI' 'LAHOUDIBA' 'LAKOTA' 'LAMADOUGOU' 'LAOGUIE' 'LARABIA' 'LATAHA'\n",
            " 'LUEHOUAN' 'LOGBOVILLE' 'LOGOUALE' 'LOUGBONON' 'LOVIGUE' 'LUENOUFLA'\n",
            " 'MADINANI' 'MAFERE' 'MAHAPLEU' 'MAMA' 'MAN' 'MANKONO' 'MANZANOUAN'\n",
            " 'MARABADIASSA' 'MARANDALA' 'MASSALA' 'MAYO' \"M'BAHIAKRO\" 'MBATTO'\n",
            " 'MBENGUE' 'MBONOUA' 'MBORLA' 'MBROU' 'MEADJI' 'MEMNI' 'MINIGNAN' 'MINORE'\n",
            " 'MOAPE' 'MONTCOUPE' 'MORONDO' 'MORONOU' 'MOUSSADOUGOU' 'NAFALA' 'NAMASSI'\n",
            " 'NAMBENGUE' 'KARAKORO' 'NANIEFONGO' 'NAPIE' 'NASSIAN' 'KOUASSIA-NIAGUNI'\n",
            " \"N'DEBO\" \"N'DOUCI\" 'NDOUKAHAKRO' 'NEKA' 'NGATTADOLIKRO' \"N'GATTAKRO\"\n",
            " 'NGUINOU' 'NIABABLY' 'NIABLE' 'NIAKARA' 'TOUIH' 'NIAMANA' 'NIAMBEZARIA'\n",
            " 'NIANDA' 'NIANGBO' 'NIDROU' 'NIOFOIN' 'NOE' 'NOUAMOU' 'NOUKPOUDOU'\n",
            " 'NOUVELLEOUSROU' \"N'ZECREZESSOU\" 'NZIANOUA' \"N'ZIKRO\" 'ODIENNE' 'OGHLAPO'\n",
            " 'OKROUYO' 'ORESS KROBOU' 'OTTAWA' 'OUALEBO' 'OUANGOLO' 'OUANINOU'\n",
            " 'OUATTARADOUGOU' 'OUELLE' 'OUME' 'OUNADIEKAHA' 'OUPOYO' 'OURAGAHIO'\n",
            " 'PAKAOUBO' 'BLIDOUBA' 'IBOKE' 'PARA' 'PEHE' 'PELEZI' 'PETIONARA'\n",
            " 'PETIT YAPO' 'PINHOU' 'PINHOU KOULOUAN' 'PODIAGOUINE' 'POGO'\n",
            " 'PONANGUIGLO' 'PRIKRO' 'POPREAGUI' 'SIPILOU' 'RAPIDES GRAH' 'RAVIART'\n",
            " 'RUBINO' 'SAFCO' 'SAGO' 'SAHUE' 'SAIOUA' 'SAKAHOUO' 'SAKASSOU' 'SAMANGO'\n",
            " 'SAMATIGUILA' 'SAMO' 'SANANFEREDOUGOU' 'SANDEGUE' 'SANGOUINE'\n",
            " 'SANKADIOKRO' 'SAPLI' 'SARAKADJI' 'SARHALA' 'SASSANDRA' 'SATIKRAN'\n",
            " 'SEGUELA' 'SEGUELON' 'SEMIEN' 'SERHIO' 'SEYDOUGOU' 'GOUMERE' 'SIANA'\n",
            " 'SIEMPURGO' 'SIENSOBA' 'SIFIE' 'SIKENSI' 'SINEMATIALI' 'SINFRA'\n",
            " 'SINGROBO' 'SIRASSO' 'MOUSSAYO' 'SOKORODOUGOU' 'SOMINANSE' 'SONDO'\n",
            " 'SONGON' 'SONGON DAGBE' 'SONONZO' 'SOROBANGO' 'SOUBRE' 'BALEYO'\n",
            " 'ZUENOULA' 'TAABO' 'TABAGNE' 'TABOU' 'TAFIRE' 'TAHIRAGUHE' 'TAHOGORA'\n",
            " 'TAI' 'TALA' 'TANDI' 'TANDA' 'TANGUELAN' 'TANKESSE' 'TAOUDI'\n",
            " 'TINDENE BAMBARASSO' 'TENGRELA' 'TIAPOUM' 'TIASSALE' 'TIEBISSOU' 'TIEMA'\n",
            " 'TIEMELEKRO' 'TIEME' 'TIENDEKRO' 'TIENKO' 'TIMBE' 'TIOBLY' 'TOROGUHE'\n",
            " 'TORO-KINKENE' 'TORTYA' 'TOUBA' 'TOUKOUZOU' 'TOULEUPLEU' 'TOUMODI'\n",
            " 'DJEKANOU' 'TOUMODISAKASSOU' 'TOUPAH' 'TOUVRE' 'TRANSUA' 'VAVOUA'\n",
            " 'VROUHO' 'WENDENE' 'WOROFLA' 'YABAYO' 'YAKASSE-ATTOBROU' 'YAKASSEFEYASSE'\n",
            " 'YAKASSEME' 'YAOKRO' 'YAOSEDOUGOU' 'YAOU' 'YOROBODI' 'YOUWASSO' 'ZAALA'\n",
            " 'ZADDI' 'ZAGNE' 'ZAIBO' 'ZALIOHOUAN' 'ZAMBAKRO' 'ZARANOU' 'ZAROKO'\n",
            " 'ZATTA' 'ZIKISSO' 'ZON-HOUNIEN' 'ZOUKOUGBEU']\n",
            "['In Service' nan]\n",
            "['ABIDJAN' 'INTERIEUR']\n",
            "['\"Abidjan_EST' 'Grand-EST' 'Grand-OUEST' '\"Abidjan_NORD'\n",
            " '\"Abidjan_CENTRE' 'Abidjan_NORD' 'Abidjan_EST' 'Abidjan_OUEST'\n",
            " 'Grand-SUD' 'SUD-OUEST' 'Abidjan_CENTRE' 'Abidjan_SUD' 'Grand-NORD'\n",
            " 'Gd-ABIDJAN' '0']\n",
            "['AGBANNEW' 'ASSINIE\"' 'KRIKOREA\"' 'NPONON' 'OKAHOTEL' 'PALMABINGERVILLE'\n",
            " 'TIAMA' 'WILLIAMSVILLE2' 'ZONE E - Abidjan_NORD' 'ZONE B - Abidjan_EST'\n",
            " 'ZONE D - Grand-OUEST' 'ZONE C - Grand-EST' 'ZONE C - Abidjan_OUEST'\n",
            " 'ZONE B - Grand-SUD' 'ZONE E - SUD-OUEST' 'ZONE A - Abidjan_CENTRE'\n",
            " 'ZONE B - Abidjan_OUEST' 'ZONE B - Abidjan_CENTRE' 'ZONE D - Abidjan_SUD'\n",
            " 'ZONE B - Grand-EST' 'ZONE A - Grand-NORD' 'ZONE D - Grand-SUD'\n",
            " 'ZONE D - Abidjan_EST' 'ZONE C - Grand-SUD' 'ZONE C - Abidjan_SUD'\n",
            " 'ZONE A - Grand-SUD' 'ZONE C - Abidjan_EST' 'ZONE B - Abidjan_Nord' nan\n",
            " 'ZONE A - Grand-EST' 'ZONE B - Abidjan-EST' 'ZONE A - Abidjan_OUEST'\n",
            " 'ZONE B - Abidjan_SUD' 'ZONE B - Grand-NORD']\n",
            "[-4.00066667 -3.48846667 -6.62705556 ... -4.01794444 -6.03969444\n",
            " -6.06545   ]\n",
            "[5.36819444 5.15876111 6.70736111 ... 5.26519444 7.42861111 7.44459167]\n",
            "['LAGUNE' 'SUD COMOE' 'HAUT SASSANDRA' 'MOYEN COMOE' 'AGNEBY'\n",
            " 'SUD BANDAMA' 'BAS SASSANDRA' 'LACS' 'FROMAGER' 'VALLEE DU BANDAMA'\n",
            " 'NZI COMOE' 'ZANZAN' 'MOYEN CAVALLY' 'WORODOUGOU' 'DENGUELE'\n",
            " '18 MONTAGNES' 'SAVANE' 'MARAHOUE' 'BAFING']\n",
            "[nan 'ABIDJAN NORTH' 'NORTH WEST' 'EAST' 'ABIDJAN SOUTH' 'SOUTH WEST'\n",
            " 'CENTRE NORTH']\n",
            "['1502501d78' '0c2e182a0c' '69bdfc69fd' ... 'cb71f8a29c' 'd4a6a0b645'\n",
            " 'f9f3e42589']\n",
            "['1502501d78' '0c2e182a0c' '69bdfc69fd' ... 'cb71f8a29c' 'd4a6a0b645'\n",
            " 'f9f3e42589']\n"
          ],
          "name": "stdout"
        }
      ]
    },
    {
      "cell_type": "markdown",
      "metadata": {
        "id": "A8BDkk9-QFh-"
      },
      "source": [
        "Unique values in Cells _geo_ description."
      ]
    },
    {
      "cell_type": "code",
      "metadata": {
        "colab": {
          "base_uri": "https://localhost:8080/"
        },
        "id": "HddQftZ2QBk4",
        "outputId": "e654e17c-492f-42d7-ddda-12acbc7b4c27"
      },
      "source": [
        "\n",
        "print(df1.Description.unique())\n",
        "print(df1.Format.unique())"
      ],
      "execution_count": null,
      "outputs": [
        {
          "output_type": "stream",
          "text": [
            "['City' 'In Service or not' 'in ABIDJAN or not' 'Geographical Zone'\n",
            " 'Name of Zone' 'Longitude' 'Latitude' 'Region' 'Area' 'ID of the cell'\n",
            " 'Site (there are several cells per site, several sites per City, several Cities per Zone, etc.)']\n",
            "['String' 'Float']\n"
          ],
          "name": "stdout"
        }
      ]
    },
    {
      "cell_type": "markdown",
      "metadata": {
        "id": "LcAt_UcgRXBX"
      },
      "source": [
        "Unique values in CDR description.xlsx dataset"
      ]
    },
    {
      "cell_type": "code",
      "metadata": {
        "colab": {
          "base_uri": "https://localhost:8080/"
        },
        "id": "9RbL60J3Q4zC",
        "outputId": "47a2ad12-1e1e-453c-fb3e-76878350862e"
      },
      "source": [
        "#unique values to each column of CDR description.xlsx dataset\n",
        "\n",
        "print(df2.Description.unique())\n",
        "print(df2.Format.unique())"
      ],
      "execution_count": null,
      "outputs": [
        {
          "output_type": "stream",
          "text": [
            "['Voice or SMS' 'Billing price' 'Time in format yyyy-MM-dd hh:mm:ss.0'\n",
            " 'Which cell in the site was used (not needed here)'\n",
            " 'Anonymized phone number of the person for which the CELL_ID and SITE_ID are given'\n",
            " 'Anonymized phone number of the counterparty'\n",
            " 'Country of party A (useless here)' 'Country of party B (useless here)'\n",
            " 'ID of the cell' 'ID of the SITE']\n",
            "['String' 'Integer']\n"
          ],
          "name": "stdout"
        }
      ]
    },
    {
      "cell_type": "markdown",
      "metadata": {
        "id": "EO8fKsQiZ39K"
      },
      "source": [
        "Unique values in MoringaSchool_CB_CDR_20120507.csv dataset"
      ]
    },
    {
      "cell_type": "code",
      "metadata": {
        "colab": {
          "base_uri": "https://localhost:8080/"
        },
        "id": "muu-8NDtVblk",
        "outputId": "f1c8a014-ad4a-4879-978e-d41b029ceb5d"
      },
      "source": [
        "#Unique values in each column of the dataset\n",
        "print(df3.PRODUTC.unique())\n",
        "print(df3.VALUE.unique())\n",
        "print(df3.DATETIME.unique())\n",
        "print(df3.CELL_ON_SITE.unique())\n",
        "print(df3.DW_A_NUMBER_INT.unique())\n",
        "print(df3.DW_B_NUMBER_INT.unique())\n",
        "print(df3.COUNTRY_A.unique())\n",
        "print(df3.COUNTRY_B.unique())\n",
        "print(df3.CELL_ID.unique())\n",
        "print(df3.SITE_ID.unique())"
      ],
      "execution_count": null,
      "outputs": [
        {
          "output_type": "stream",
          "text": [
            "['Voice' 'sms' 'data']\n",
            "[    0    25    56    14    44    50    19   192    99    12    24  1610\n",
            "   152   138    30     1     2    17    22    20    21    27    16    35\n",
            "   201    74    31     3    38     7   286    70    13    39    11    53\n",
            "    61    28    49    90     9    47    40   300    55   185   113   120\n",
            "    64     4   128    34    46     8    42    54    60    76    18    43\n",
            "    66   100    83    10    57   205    32    72   447   318    96    45\n",
            "    51    15    62     5   279   107   133    92   237   500   200   450\n",
            "    29    33   109   130   210    78   766    84   388   154    26    80\n",
            "    48   220  1036  1118   110    97    36   105     6   976    58   111\n",
            "    23   174    77    52   150    59   102    63   225    69   196   108\n",
            "    89   214   136   179    88  1072   118   194   402   161   298    95\n",
            "  4440    73   190   215   132   143   400   886   291   254   151    41\n",
            "   162   189   239    37   106   638   119   180    75   232   250   104\n",
            "    68    91   362   167    81   258   112   137   343   252   284    98\n",
            "   146   280   126   135   270    82   124   188   114   476   256    93\n",
            "   158   169   272    86   328   191   434   381    79   140   390   324\n",
            "   170   474   122   131   212   176   580   364   281   293   144   614\n",
            "   230   172   134   240   142   467   198   898   218   186    94    65\n",
            "    71  1162   181   330   171   160   601   224    87   277   404   490\n",
            "   222   183   320   236   159   357   163   962   360   123   262   115\n",
            "  1860   414   800   178   125   420   321   193   223   156   555   342\n",
            "   399   594   980   199   166   290   255   153   203   266   294   155\n",
            "  4886   748   376   356   168   271   482    67   103   139   314   249\n",
            "    85   184   470   501   229   540   436   245   173  1326   329   195\n",
            "   117   382   538   373   296   494   600   533   164   260   576   560\n",
            "   157  1328   101   206   316   175   484  2282   207   498   530   375\n",
            "   295   264   202   187   276  1000   811   720   141   325   147   127\n",
            "   520   438   596  1020   148   430   344   285   288   340   758   197\n",
            "  3000   208  1052   666   495   204   570  1068   395  1050   116   275\n",
            "   306   458   228   259   273   261  1064   149   674   304   219   238\n",
            "  1348   542  1058   975   274   619   776   852   243   519   235   221\n",
            "   918   244  1330   383  1946   242   129  1132  1155   182  1800   610\n",
            "   211   535  1360   322   371   460  2496  1830   462   282   347   428\n",
            "   471   217   665  1026   334   444   246   965   292   305   303  1410\n",
            "   354  1180   310   998  2000   417   418   604   586  1235   459  3324\n",
            "   177   516   455   412   251   775   504   248   425   492  1741   268\n",
            "   308   213   312   351   550   463   231   145  1120   226   368   563\n",
            "   335   253   853   216  1001   531   121  1677  2084   349   234   499\n",
            "   468   534   385   209   451   900   480   326  2653   165   384   257\n",
            "   297   558   421   472   523   233  2383   514   313   512   366   515\n",
            "   372   888   426   568   378   380   479  1630   716   502   377   780\n",
            "   655  4020  2316   506   578   346  2014   760   341   410  1307   507\n",
            "   247   521   464   634   768   588   670  3762   946  1100   510  2012\n",
            "   440   283  2963   640   522  1999   795   956  8385   698   416   718\n",
            "   307   446   374   392   265   536  2100   408   338  1061   394   732\n",
            "   359   398   336   880   690   884   448   562   661   920   579   699\n",
            "  1110   301   358   882   311   339   620   541   497   826   432   680\n",
            "  1290   337   985   872   793   532   894   345  3245   424   407   348\n",
            "  1080   960  1974   876   309   269   812   598   657  1380  2029   332\n",
            "  3164  1060  5194   350   984   994   763   909  1274   810   505   672\n",
            "  1520   379   590   429   302  1428   592   227   442   263  1201  2630\n",
            "   415   278   363  1898   475   405   544   942  2400   742   764   539\n",
            "   422   902   778   315   930   814   797   485  2220   367   466   370\n",
            "  1236   396   389  1300   561   423  1760  1014   571  2377   839  1350\n",
            "  1496   654   386  1640   831   443   524  1320   478   792  1200  1002\n",
            "  1202   621   954  4993   564   327   355   903  4249   948   441   323\n",
            "   737  1375  1607   548   936   454  1534   518   401  2114   477  1714\n",
            "   397  1544  2265   979   551   828   361   660   333   456   525  3162\n",
            "   706  1476  2210  1758  1010  5603   752   682  5802  1108   289  6182\n",
            "   553  3395  1056   496  1636   406  2142   681   668   991   403   452\n",
            "  1208  1381   827   559   517   662 14193  1213   694   486   287  1266\n",
            "  9463  1258   267   686   457   834  3520   582  1130  1025  1078   786\n",
            "   488   881  1302  2070  7190   934  1392   353  2300  1254  2945   678\n",
            "   526   996   585  3240   369   622  2724  3077   647  1497   635  1076\n",
            "  3254  1398  1400   439  1596  1284  2706   870   352   331   726  3098\n",
            "   431   740  3138  1286  1658  2120  2520   713  1116  1170   393   602\n",
            "  2480   584  5036]\n",
            "['2012-05-06 23:04:37.0' '2012-05-06 23:05:25.0' '2012-05-06 23:05:41.0'\n",
            " ... '2012-05-07 02:50:10.0' '2012-05-07 02:50:11.0'\n",
            " '2012-05-07 02:50:12.0']\n",
            "['1' '0' '_' '5' '2' '3' '4' '6' '9' '7']\n",
            "['49fae048b547780' '7a54a6eaee19e65' '6008887b0207d82' ...\n",
            " '4f17edb136d4da8' 'a83cab543abe924' 'd5086a1f26ded39']\n",
            "['1a49f8b0ded9de6' '93343ba6e41af95' '7aacc9709ce0a20' ...\n",
            " 'd1c99f21cabd3f5' 'df9e6c33d2adf13' 'f720ed91d06ce55']\n",
            "['19e2e' 'OTHER']\n",
            "['19e2e' 'OTHER']\n",
            "['/TJNe+Mmtu' '/+cKZKIp41' '/u0FSD+ahi' ... 'SU0HmXdjIL' '06ea9799d9'\n",
            " 'mSuZBJ8qeP']\n",
            "['/TJNe+Mmtu' '/+cKZKIp41' '/u0FSD+ahi' ... '88d04c4407' 'mSuZBJ8qeP' 'b']\n"
          ],
          "name": "stdout"
        }
      ]
    },
    {
      "cell_type": "markdown",
      "metadata": {
        "id": "5CD0IgD7aO0a"
      },
      "source": [
        "#Unique values in MoringaSchool_CB_CDR_20120509.csv dataset"
      ]
    },
    {
      "cell_type": "code",
      "metadata": {
        "colab": {
          "base_uri": "https://localhost:8080/"
        },
        "id": "7XUyaWBoXoEg",
        "outputId": "fbbd4bb2-f981-41d1-bade-3ffab4c367cb"
      },
      "source": [
        "#Unique values in each column of the datset\n",
        "print(df4.PRODUCT.unique())\n",
        "print(df4.VALUE.unique())\n",
        "print(df4.DATE_TIME.unique())\n",
        "print(df4.CELL_ON_SITE.unique())\n",
        "print(df4.DW_A_NUMBER_INT.unique())\n",
        "print(df4.DW_B_NUMBER_INT.unique())\n",
        "print(df4.COUNTRY_A.unique())\n",
        "print(df4.COUNTRY_B.unique())\n",
        "print(df4.CELLID.unique())\n",
        "print(df4.SIET_ID.unique())"
      ],
      "execution_count": null,
      "outputs": [
        {
          "output_type": "stream",
          "text": [
            "['Voice' 'sms' 'data']\n",
            "[  61    0   10 ... 1386 4031 7740]\n",
            "['2012-05-08 23:01:28.0' '2012-05-08 23:01:31.0' '2012-05-08 23:02:59.0'\n",
            " ... '2012-05-09 10:26:24.0' '2012-05-09 10:26:25.0'\n",
            " '2012-05-09 10:26:26.0']\n",
            "['2' '1' '0' '4' '_' '5' '3' '6' '7' '8' 'E' 'F' 'A' 'B' '9' 'C' 'D' nan]\n",
            "['966f68353622feb' 'a0a597384c612d7' '5441a9a58c97132' ...\n",
            " '8a69d22d93aaa71' '707dee2533ea7ac' nan]\n",
            "['ffd53a3bb2db6f1' 'cf3b218f1dde792' '52f8b299515b9b7' ...\n",
            " '7aa17381db751eb' '5de55b17357efab' nan]\n",
            "['19e2e' 'OTHER' nan]\n",
            "['19e2e' 'OTHER' nan]\n",
            "['+38u2u/rfx' '+Fs4mTvdKx' '+ZaaZozy/+' ... '969e9d2fe5' '9895acefb8' nan]\n",
            "['+38u2u/rfx' '+Fs4mTvdKx' '+ZaaZozy/+' ... 'f615333505' '9e8c39b126'\n",
            " '9094b809cd']\n"
          ],
          "name": "stdout"
        }
      ]
    },
    {
      "cell_type": "markdown",
      "metadata": {
        "id": "bB3isJvXajhu"
      },
      "source": [
        "# Unique vales of MoringaSchool_CB_CDR_20120508.csv dataset"
      ]
    },
    {
      "cell_type": "code",
      "metadata": {
        "colab": {
          "base_uri": "https://localhost:8080/"
        },
        "id": "iFCM53gVX5Me",
        "outputId": "d7643d67-338f-41a2-a4d2-8e9b6d03e68d"
      },
      "source": [
        "#Unique values in each column of the dataset\n",
        "print(df5.PRODUCT.unique())\n",
        "print(df5.VALUE.unique())\n",
        "print(df5.DATE_TIME.unique())\n",
        "print(df5.CELL_ON_SITE.unique())\n",
        "print(df5.DW_A_NUMBER.unique())\n",
        "print(df5.DW_B_NUMBER.unique())\n",
        "print(df5.COUNTRY_A.unique())\n",
        "print(df5.COUNTRY_B.unique())\n",
        "print(df5.CELL_ID.unique())\n",
        "print(df5.SITE_ID.unique())"
      ],
      "execution_count": null,
      "outputs": [
        {
          "output_type": "stream",
          "text": [
            "['sms' 'Voice' 'data']\n",
            "[   0   37   25 ... 2158 1310 1074]\n",
            "['2012-05-07 23:02:06.0' '2012-05-07 23:03:44.0' '2012-05-07 23:04:06.0'\n",
            " ... '2012-05-08 09:23:42.0' '2012-05-08 09:23:43.0'\n",
            " '2012-05-08 09:23:44.0']\n",
            "['2' '1' '0' '4' '_' '3' '5' '8' '7' '6' '9' 'E' 'F' 'B' 'C' 'D' 'A']\n",
            "['32255675c3b6fe3' 'ff16d6ac74c1c64' '98d9f2fb5ff624b' ...\n",
            " '153afde6fbd9787' '0a9d25bb039ed0c' '5963a69c67097e1']\n",
            "['1aa7ae01386e9fb' '87d87309c15a8c9' '93343ba6e41af95' ...\n",
            " 'c88ec7436996936' '3ba6b7185cea347' '85b58b1cd202fe1']\n",
            "['19e2e' 'OTHER']\n",
            "['19e2e' 'OTHER' '1']\n",
            "['+854AcBQT2' '+laSrk7g6q' '/xvRrCVKoQ' ... 'aa06fa3b0b' '4980f58c73' nan]\n",
            "['+854AcBQT2' '+laSrk7g6q' '/xvRrCVKoQ' ... 'f31a281724' 'bee9acb51b'\n",
            " '45fe28a4c9']\n"
          ],
          "name": "stdout"
        }
      ]
    },
    {
      "cell_type": "markdown",
      "metadata": {
        "id": "rOnWpxtecjd6"
      },
      "source": [
        "# Data Cleaning"
      ]
    },
    {
      "cell_type": "markdown",
      "metadata": {
        "id": "zkg0B9zkoq7N"
      },
      "source": [
        "Correcting column names in my 'MoringaSchool_CB_CDR_20120507.csv'"
      ]
    },
    {
      "cell_type": "code",
      "metadata": {
        "colab": {
          "base_uri": "https://localhost:8080/",
          "height": 107
        },
        "id": "QK1ECD8isEVq",
        "outputId": "59b3c10b-4e6d-4e5a-cd35-91c568ae689a"
      },
      "source": [
        "import pandas as pd\n",
        "data3 = '/content/MoringaSchool_CB_CDR_20120507.csv'\n",
        "df3= pd.read_csv(data3,header =0, names = ['PRODUCT','VALUE','DATE_TIME','CELL_ON_SITE','DW_A_NUMBER_INT','DW_B_NUMBER_INT','COUNTRTY_A','COUNTRY_B','CELL_ID','SITE_ID'])\n",
        "df3.head(2)\n"
      ],
      "execution_count": 8,
      "outputs": [
        {
          "output_type": "execute_result",
          "data": {
            "text/html": [
              "<div>\n",
              "<style scoped>\n",
              "    .dataframe tbody tr th:only-of-type {\n",
              "        vertical-align: middle;\n",
              "    }\n",
              "\n",
              "    .dataframe tbody tr th {\n",
              "        vertical-align: top;\n",
              "    }\n",
              "\n",
              "    .dataframe thead th {\n",
              "        text-align: right;\n",
              "    }\n",
              "</style>\n",
              "<table border=\"1\" class=\"dataframe\">\n",
              "  <thead>\n",
              "    <tr style=\"text-align: right;\">\n",
              "      <th></th>\n",
              "      <th>PRODUCT</th>\n",
              "      <th>VALUE</th>\n",
              "      <th>DATE_TIME</th>\n",
              "      <th>CELL_ON_SITE</th>\n",
              "      <th>DW_A_NUMBER_INT</th>\n",
              "      <th>DW_B_NUMBER_INT</th>\n",
              "      <th>COUNTRTY_A</th>\n",
              "      <th>COUNTRY_B</th>\n",
              "      <th>CELL_ID</th>\n",
              "      <th>SITE_ID</th>\n",
              "    </tr>\n",
              "  </thead>\n",
              "  <tbody>\n",
              "    <tr>\n",
              "      <th>0</th>\n",
              "      <td>Voice</td>\n",
              "      <td>0.0</td>\n",
              "      <td>2012-05-06 23:04:37.0</td>\n",
              "      <td>1</td>\n",
              "      <td>49fae048b547780</td>\n",
              "      <td>1a49f8b0ded9de6</td>\n",
              "      <td>19e2e</td>\n",
              "      <td>19e2e</td>\n",
              "      <td>/TJNe+Mmtu</td>\n",
              "      <td>/TJNe+Mmtu</td>\n",
              "    </tr>\n",
              "    <tr>\n",
              "      <th>1</th>\n",
              "      <td>sms</td>\n",
              "      <td>0.0</td>\n",
              "      <td>2012-05-06 23:05:25.0</td>\n",
              "      <td>0</td>\n",
              "      <td>7a54a6eaee19e65</td>\n",
              "      <td>93343ba6e41af95</td>\n",
              "      <td>19e2e</td>\n",
              "      <td>19e2e</td>\n",
              "      <td>/+cKZKIp41</td>\n",
              "      <td>/+cKZKIp41</td>\n",
              "    </tr>\n",
              "  </tbody>\n",
              "</table>\n",
              "</div>"
            ],
            "text/plain": [
              "  PRODUCT  VALUE              DATE_TIME  ... COUNTRY_B     CELL_ID     SITE_ID\n",
              "0   Voice    0.0  2012-05-06 23:04:37.0  ...     19e2e  /TJNe+Mmtu  /TJNe+Mmtu\n",
              "1     sms    0.0  2012-05-06 23:05:25.0  ...     19e2e  /+cKZKIp41  /+cKZKIp41\n",
              "\n",
              "[2 rows x 10 columns]"
            ]
          },
          "metadata": {
            "tags": []
          },
          "execution_count": 8
        }
      ]
    },
    {
      "cell_type": "markdown",
      "metadata": {
        "id": "HVJyHiS7o_Wc"
      },
      "source": [
        "Correcting column names in 'MoringaSchool_CB_CDR_20120509.csv' dataset"
      ]
    },
    {
      "cell_type": "code",
      "metadata": {
        "colab": {
          "base_uri": "https://localhost:8080/",
          "height": 107
        },
        "id": "1oAKR7ThxJbU",
        "outputId": "670c5571-4592-464a-f6e4-bf49c615dcf3"
      },
      "source": [
        "data4 = '/content/MoringaSchool_CB_CDR_20120509.csv'\n",
        "df4= pd.read_csv(data4,header =0, names = ['PRODUCT','VALUE','DATE_TIME','CELL_ON_SITE','DW_A_NUMBER_INT','DW_B_NUMBER_INT','COUNTRTY_A','COUNTRY_B','CELL_ID','SITE_ID'])\n",
        "df4.head(2)"
      ],
      "execution_count": 9,
      "outputs": [
        {
          "output_type": "execute_result",
          "data": {
            "text/html": [
              "<div>\n",
              "<style scoped>\n",
              "    .dataframe tbody tr th:only-of-type {\n",
              "        vertical-align: middle;\n",
              "    }\n",
              "\n",
              "    .dataframe tbody tr th {\n",
              "        vertical-align: top;\n",
              "    }\n",
              "\n",
              "    .dataframe thead th {\n",
              "        text-align: right;\n",
              "    }\n",
              "</style>\n",
              "<table border=\"1\" class=\"dataframe\">\n",
              "  <thead>\n",
              "    <tr style=\"text-align: right;\">\n",
              "      <th></th>\n",
              "      <th>PRODUCT</th>\n",
              "      <th>VALUE</th>\n",
              "      <th>DATE_TIME</th>\n",
              "      <th>CELL_ON_SITE</th>\n",
              "      <th>DW_A_NUMBER_INT</th>\n",
              "      <th>DW_B_NUMBER_INT</th>\n",
              "      <th>COUNTRTY_A</th>\n",
              "      <th>COUNTRY_B</th>\n",
              "      <th>CELL_ID</th>\n",
              "      <th>SITE_ID</th>\n",
              "    </tr>\n",
              "  </thead>\n",
              "  <tbody>\n",
              "    <tr>\n",
              "      <th>0</th>\n",
              "      <td>Voice</td>\n",
              "      <td>61</td>\n",
              "      <td>2012-05-08 23:01:28.0</td>\n",
              "      <td>2</td>\n",
              "      <td>966f68353622feb</td>\n",
              "      <td>ffd53a3bb2db6f1</td>\n",
              "      <td>19e2e</td>\n",
              "      <td>19e2e</td>\n",
              "      <td>+38u2u/rfx</td>\n",
              "      <td>+38u2u/rfx</td>\n",
              "    </tr>\n",
              "    <tr>\n",
              "      <th>1</th>\n",
              "      <td>sms</td>\n",
              "      <td>0</td>\n",
              "      <td>2012-05-08 23:01:31.0</td>\n",
              "      <td>1</td>\n",
              "      <td>a0a597384c612d7</td>\n",
              "      <td>cf3b218f1dde792</td>\n",
              "      <td>19e2e</td>\n",
              "      <td>19e2e</td>\n",
              "      <td>+Fs4mTvdKx</td>\n",
              "      <td>+Fs4mTvdKx</td>\n",
              "    </tr>\n",
              "  </tbody>\n",
              "</table>\n",
              "</div>"
            ],
            "text/plain": [
              "  PRODUCT  VALUE              DATE_TIME  ... COUNTRY_B     CELL_ID     SITE_ID\n",
              "0   Voice     61  2012-05-08 23:01:28.0  ...     19e2e  +38u2u/rfx  +38u2u/rfx\n",
              "1     sms      0  2012-05-08 23:01:31.0  ...     19e2e  +Fs4mTvdKx  +Fs4mTvdKx\n",
              "\n",
              "[2 rows x 10 columns]"
            ]
          },
          "metadata": {
            "tags": []
          },
          "execution_count": 9
        }
      ]
    },
    {
      "cell_type": "markdown",
      "metadata": {
        "id": "UlGUOEnOqMwD"
      },
      "source": [
        "Correcting columns in my MoringaSchool_CB_CDR_20120508.csv"
      ]
    },
    {
      "cell_type": "code",
      "metadata": {
        "colab": {
          "base_uri": "https://localhost:8080/",
          "height": 107
        },
        "id": "5YFG6IZnDnTq",
        "outputId": "c28ecb4e-1b44-4e49-edd9-ed1ef8417a02"
      },
      "source": [
        "data5 = '/content/MoringaSchool_CB_CDR_20120508.csv'\n",
        "df5= pd.read_csv(data5,header =0, names = ['PRODUCT','VALUE','DATE_TIME','CELL_ON_SITE','DW_A_NUMBER_INT','DW_B_NUMBER_INT','COUNTRTY_A','COUNTRY_B','CELL_ID','SITE_ID'])\n",
        "df5.head(2)"
      ],
      "execution_count": 10,
      "outputs": [
        {
          "output_type": "execute_result",
          "data": {
            "text/html": [
              "<div>\n",
              "<style scoped>\n",
              "    .dataframe tbody tr th:only-of-type {\n",
              "        vertical-align: middle;\n",
              "    }\n",
              "\n",
              "    .dataframe tbody tr th {\n",
              "        vertical-align: top;\n",
              "    }\n",
              "\n",
              "    .dataframe thead th {\n",
              "        text-align: right;\n",
              "    }\n",
              "</style>\n",
              "<table border=\"1\" class=\"dataframe\">\n",
              "  <thead>\n",
              "    <tr style=\"text-align: right;\">\n",
              "      <th></th>\n",
              "      <th>PRODUCT</th>\n",
              "      <th>VALUE</th>\n",
              "      <th>DATE_TIME</th>\n",
              "      <th>CELL_ON_SITE</th>\n",
              "      <th>DW_A_NUMBER_INT</th>\n",
              "      <th>DW_B_NUMBER_INT</th>\n",
              "      <th>COUNTRTY_A</th>\n",
              "      <th>COUNTRY_B</th>\n",
              "      <th>CELL_ID</th>\n",
              "      <th>SITE_ID</th>\n",
              "    </tr>\n",
              "  </thead>\n",
              "  <tbody>\n",
              "    <tr>\n",
              "      <th>0</th>\n",
              "      <td>sms</td>\n",
              "      <td>0</td>\n",
              "      <td>2012-05-07 23:02:06.0</td>\n",
              "      <td>2</td>\n",
              "      <td>32255675c3b6fe3</td>\n",
              "      <td>1aa7ae01386e9fb</td>\n",
              "      <td>19e2e</td>\n",
              "      <td>19e2e</td>\n",
              "      <td>+854AcBQT2</td>\n",
              "      <td>+854AcBQT2</td>\n",
              "    </tr>\n",
              "    <tr>\n",
              "      <th>1</th>\n",
              "      <td>Voice</td>\n",
              "      <td>0</td>\n",
              "      <td>2012-05-07 23:03:44.0</td>\n",
              "      <td>1</td>\n",
              "      <td>ff16d6ac74c1c64</td>\n",
              "      <td>87d87309c15a8c9</td>\n",
              "      <td>19e2e</td>\n",
              "      <td>19e2e</td>\n",
              "      <td>+854AcBQT2</td>\n",
              "      <td>+854AcBQT2</td>\n",
              "    </tr>\n",
              "  </tbody>\n",
              "</table>\n",
              "</div>"
            ],
            "text/plain": [
              "  PRODUCT  VALUE              DATE_TIME  ... COUNTRY_B     CELL_ID     SITE_ID\n",
              "0     sms      0  2012-05-07 23:02:06.0  ...     19e2e  +854AcBQT2  +854AcBQT2\n",
              "1   Voice      0  2012-05-07 23:03:44.0  ...     19e2e  +854AcBQT2  +854AcBQT2\n",
              "\n",
              "[2 rows x 10 columns]"
            ]
          },
          "metadata": {
            "tags": []
          },
          "execution_count": 10
        }
      ]
    },
    {
      "cell_type": "code",
      "metadata": {
        "colab": {
          "base_uri": "https://localhost:8080/",
          "height": 107
        },
        "id": "_VrJO2D0DxH3",
        "outputId": "f5b6623a-9b88-4f16-8adb-ceaa9b8567a7"
      },
      "source": [
        "df1_all = pd.concat((df3,df4,df5), axis=0)\n",
        "df1_all.head(2)"
      ],
      "execution_count": 11,
      "outputs": [
        {
          "output_type": "execute_result",
          "data": {
            "text/html": [
              "<div>\n",
              "<style scoped>\n",
              "    .dataframe tbody tr th:only-of-type {\n",
              "        vertical-align: middle;\n",
              "    }\n",
              "\n",
              "    .dataframe tbody tr th {\n",
              "        vertical-align: top;\n",
              "    }\n",
              "\n",
              "    .dataframe thead th {\n",
              "        text-align: right;\n",
              "    }\n",
              "</style>\n",
              "<table border=\"1\" class=\"dataframe\">\n",
              "  <thead>\n",
              "    <tr style=\"text-align: right;\">\n",
              "      <th></th>\n",
              "      <th>PRODUCT</th>\n",
              "      <th>VALUE</th>\n",
              "      <th>DATE_TIME</th>\n",
              "      <th>CELL_ON_SITE</th>\n",
              "      <th>DW_A_NUMBER_INT</th>\n",
              "      <th>DW_B_NUMBER_INT</th>\n",
              "      <th>COUNTRTY_A</th>\n",
              "      <th>COUNTRY_B</th>\n",
              "      <th>CELL_ID</th>\n",
              "      <th>SITE_ID</th>\n",
              "    </tr>\n",
              "  </thead>\n",
              "  <tbody>\n",
              "    <tr>\n",
              "      <th>0</th>\n",
              "      <td>Voice</td>\n",
              "      <td>0.0</td>\n",
              "      <td>2012-05-06 23:04:37.0</td>\n",
              "      <td>1</td>\n",
              "      <td>49fae048b547780</td>\n",
              "      <td>1a49f8b0ded9de6</td>\n",
              "      <td>19e2e</td>\n",
              "      <td>19e2e</td>\n",
              "      <td>/TJNe+Mmtu</td>\n",
              "      <td>/TJNe+Mmtu</td>\n",
              "    </tr>\n",
              "    <tr>\n",
              "      <th>1</th>\n",
              "      <td>sms</td>\n",
              "      <td>0.0</td>\n",
              "      <td>2012-05-06 23:05:25.0</td>\n",
              "      <td>0</td>\n",
              "      <td>7a54a6eaee19e65</td>\n",
              "      <td>93343ba6e41af95</td>\n",
              "      <td>19e2e</td>\n",
              "      <td>19e2e</td>\n",
              "      <td>/+cKZKIp41</td>\n",
              "      <td>/+cKZKIp41</td>\n",
              "    </tr>\n",
              "  </tbody>\n",
              "</table>\n",
              "</div>"
            ],
            "text/plain": [
              "  PRODUCT  VALUE              DATE_TIME  ... COUNTRY_B     CELL_ID     SITE_ID\n",
              "0   Voice    0.0  2012-05-06 23:04:37.0  ...     19e2e  /TJNe+Mmtu  /TJNe+Mmtu\n",
              "1     sms    0.0  2012-05-06 23:05:25.0  ...     19e2e  /+cKZKIp41  /+cKZKIp41\n",
              "\n",
              "[2 rows x 10 columns]"
            ]
          },
          "metadata": {
            "tags": []
          },
          "execution_count": 11
        }
      ]
    },
    {
      "cell_type": "markdown",
      "metadata": {
        "id": "jfO4gEMpobiE"
      },
      "source": [
        "Dropping unwanted columns in my dataset"
      ]
    },
    {
      "cell_type": "code",
      "metadata": {
        "id": "8yzUUL8fEEeu"
      },
      "source": [
        "df1_all.drop(['COUNTRTY_A','COUNTRY_B'], axis=1,inplace=True)\n"
      ],
      "execution_count": 12,
      "outputs": []
    },
    {
      "cell_type": "code",
      "metadata": {
        "colab": {
          "base_uri": "https://localhost:8080/",
          "height": 107
        },
        "id": "h1ycUOHuG0zE",
        "outputId": "55b8439a-19b2-471f-9faf-631a80529d59"
      },
      "source": [
        "# change the column names to lower case\n",
        "df1_all.columns = map(str.lower, df1_all.columns)\n",
        "df1_all.head(2)"
      ],
      "execution_count": 13,
      "outputs": [
        {
          "output_type": "execute_result",
          "data": {
            "text/html": [
              "<div>\n",
              "<style scoped>\n",
              "    .dataframe tbody tr th:only-of-type {\n",
              "        vertical-align: middle;\n",
              "    }\n",
              "\n",
              "    .dataframe tbody tr th {\n",
              "        vertical-align: top;\n",
              "    }\n",
              "\n",
              "    .dataframe thead th {\n",
              "        text-align: right;\n",
              "    }\n",
              "</style>\n",
              "<table border=\"1\" class=\"dataframe\">\n",
              "  <thead>\n",
              "    <tr style=\"text-align: right;\">\n",
              "      <th></th>\n",
              "      <th>product</th>\n",
              "      <th>value</th>\n",
              "      <th>date_time</th>\n",
              "      <th>cell_on_site</th>\n",
              "      <th>dw_a_number_int</th>\n",
              "      <th>dw_b_number_int</th>\n",
              "      <th>cell_id</th>\n",
              "      <th>site_id</th>\n",
              "    </tr>\n",
              "  </thead>\n",
              "  <tbody>\n",
              "    <tr>\n",
              "      <th>0</th>\n",
              "      <td>Voice</td>\n",
              "      <td>0.0</td>\n",
              "      <td>2012-05-06 23:04:37.0</td>\n",
              "      <td>1</td>\n",
              "      <td>49fae048b547780</td>\n",
              "      <td>1a49f8b0ded9de6</td>\n",
              "      <td>/TJNe+Mmtu</td>\n",
              "      <td>/TJNe+Mmtu</td>\n",
              "    </tr>\n",
              "    <tr>\n",
              "      <th>1</th>\n",
              "      <td>sms</td>\n",
              "      <td>0.0</td>\n",
              "      <td>2012-05-06 23:05:25.0</td>\n",
              "      <td>0</td>\n",
              "      <td>7a54a6eaee19e65</td>\n",
              "      <td>93343ba6e41af95</td>\n",
              "      <td>/+cKZKIp41</td>\n",
              "      <td>/+cKZKIp41</td>\n",
              "    </tr>\n",
              "  </tbody>\n",
              "</table>\n",
              "</div>"
            ],
            "text/plain": [
              "  product  value  ...     cell_id     site_id\n",
              "0   Voice    0.0  ...  /TJNe+Mmtu  /TJNe+Mmtu\n",
              "1     sms    0.0  ...  /+cKZKIp41  /+cKZKIp41\n",
              "\n",
              "[2 rows x 8 columns]"
            ]
          },
          "metadata": {
            "tags": []
          },
          "execution_count": 13
        }
      ]
    },
    {
      "cell_type": "code",
      "metadata": {
        "id": "0lKcXyF4IXGA"
      },
      "source": [
        "#check for duplicates in df1_all\n",
        "df1_all.duplicated().sum()"
      ],
      "execution_count": null,
      "outputs": []
    },
    {
      "cell_type": "code",
      "metadata": {
        "colab": {
          "base_uri": "https://localhost:8080/",
          "height": 406
        },
        "id": "6TZ_us1-IvRE",
        "outputId": "cf5c34a6-2dd6-4dc5-a8ea-8c8668981187"
      },
      "source": [
        "df1_all.drop_duplicates()"
      ],
      "execution_count": 14,
      "outputs": [
        {
          "output_type": "execute_result",
          "data": {
            "text/html": [
              "<div>\n",
              "<style scoped>\n",
              "    .dataframe tbody tr th:only-of-type {\n",
              "        vertical-align: middle;\n",
              "    }\n",
              "\n",
              "    .dataframe tbody tr th {\n",
              "        vertical-align: top;\n",
              "    }\n",
              "\n",
              "    .dataframe thead th {\n",
              "        text-align: right;\n",
              "    }\n",
              "</style>\n",
              "<table border=\"1\" class=\"dataframe\">\n",
              "  <thead>\n",
              "    <tr style=\"text-align: right;\">\n",
              "      <th></th>\n",
              "      <th>product</th>\n",
              "      <th>value</th>\n",
              "      <th>date_time</th>\n",
              "      <th>cell_on_site</th>\n",
              "      <th>dw_a_number_int</th>\n",
              "      <th>dw_b_number_int</th>\n",
              "      <th>cell_id</th>\n",
              "      <th>site_id</th>\n",
              "    </tr>\n",
              "  </thead>\n",
              "  <tbody>\n",
              "    <tr>\n",
              "      <th>0</th>\n",
              "      <td>Voice</td>\n",
              "      <td>0.0</td>\n",
              "      <td>2012-05-06 23:04:37.0</td>\n",
              "      <td>1</td>\n",
              "      <td>49fae048b547780</td>\n",
              "      <td>1a49f8b0ded9de6</td>\n",
              "      <td>/TJNe+Mmtu</td>\n",
              "      <td>/TJNe+Mmtu</td>\n",
              "    </tr>\n",
              "    <tr>\n",
              "      <th>1</th>\n",
              "      <td>sms</td>\n",
              "      <td>0.0</td>\n",
              "      <td>2012-05-06 23:05:25.0</td>\n",
              "      <td>0</td>\n",
              "      <td>7a54a6eaee19e65</td>\n",
              "      <td>93343ba6e41af95</td>\n",
              "      <td>/+cKZKIp41</td>\n",
              "      <td>/+cKZKIp41</td>\n",
              "    </tr>\n",
              "    <tr>\n",
              "      <th>2</th>\n",
              "      <td>sms</td>\n",
              "      <td>25.0</td>\n",
              "      <td>2012-05-06 23:05:41.0</td>\n",
              "      <td>0</td>\n",
              "      <td>6008887b0207d82</td>\n",
              "      <td>7aacc9709ce0a20</td>\n",
              "      <td>/u0FSD+ahi</td>\n",
              "      <td>/u0FSD+ahi</td>\n",
              "    </tr>\n",
              "    <tr>\n",
              "      <th>3</th>\n",
              "      <td>Voice</td>\n",
              "      <td>56.0</td>\n",
              "      <td>2012-05-06 23:05:42.0</td>\n",
              "      <td>1</td>\n",
              "      <td>7370032e20f4e96</td>\n",
              "      <td>6af4a60e74c91d3</td>\n",
              "      <td>+cNeJzsTp3</td>\n",
              "      <td>+cNeJzsTp3</td>\n",
              "    </tr>\n",
              "    <tr>\n",
              "      <th>4</th>\n",
              "      <td>Voice</td>\n",
              "      <td>14.0</td>\n",
              "      <td>2012-05-06 23:06:29.0</td>\n",
              "      <td>1</td>\n",
              "      <td>966ba4656e38e62</td>\n",
              "      <td>02aa736ee555d5c</td>\n",
              "      <td>051KhYDCpv</td>\n",
              "      <td>051KhYDCpv</td>\n",
              "    </tr>\n",
              "    <tr>\n",
              "      <th>...</th>\n",
              "      <td>...</td>\n",
              "      <td>...</td>\n",
              "      <td>...</td>\n",
              "      <td>...</td>\n",
              "      <td>...</td>\n",
              "      <td>...</td>\n",
              "      <td>...</td>\n",
              "      <td>...</td>\n",
              "    </tr>\n",
              "    <tr>\n",
              "      <th>240201</th>\n",
              "      <td>sms</td>\n",
              "      <td>50.0</td>\n",
              "      <td>2012-05-08 02:24:44.0</td>\n",
              "      <td>1</td>\n",
              "      <td>c6b1e595012df80</td>\n",
              "      <td>0a5ce738cc42adf</td>\n",
              "      <td>17ba194a62</td>\n",
              "      <td>6049499424</td>\n",
              "    </tr>\n",
              "    <tr>\n",
              "      <th>240202</th>\n",
              "      <td>sms</td>\n",
              "      <td>0.0</td>\n",
              "      <td>2012-05-08 02:24:44.0</td>\n",
              "      <td>0</td>\n",
              "      <td>d3c027147485ea3</td>\n",
              "      <td>66dde71a67c0645</td>\n",
              "      <td>923c4e27ac</td>\n",
              "      <td>13c690c436</td>\n",
              "    </tr>\n",
              "    <tr>\n",
              "      <th>240203</th>\n",
              "      <td>sms</td>\n",
              "      <td>0.0</td>\n",
              "      <td>2012-05-08 02:24:44.0</td>\n",
              "      <td>0</td>\n",
              "      <td>8ab8b9ed6989f61</td>\n",
              "      <td>e09e736e46c5c3d</td>\n",
              "      <td>03ee801971</td>\n",
              "      <td>7f76d66503</td>\n",
              "    </tr>\n",
              "    <tr>\n",
              "      <th>240204</th>\n",
              "      <td>sms</td>\n",
              "      <td>0.0</td>\n",
              "      <td>2012-05-08 02:24:44.0</td>\n",
              "      <td>2</td>\n",
              "      <td>209d6acff14e86b</td>\n",
              "      <td>29f2ac11c701242</td>\n",
              "      <td>c8ac59a7e2</td>\n",
              "      <td>012114d799</td>\n",
              "    </tr>\n",
              "    <tr>\n",
              "      <th>240205</th>\n",
              "      <td>sms</td>\n",
              "      <td>0.0</td>\n",
              "      <td>2012-05-08 02:24:44.0</td>\n",
              "      <td>2</td>\n",
              "      <td>705b15fbd2affca</td>\n",
              "      <td>e09e736e46c5c</td>\n",
              "      <td>NaN</td>\n",
              "      <td>NaN</td>\n",
              "    </tr>\n",
              "  </tbody>\n",
              "</table>\n",
              "<p>642790 rows × 8 columns</p>\n",
              "</div>"
            ],
            "text/plain": [
              "       product  value  ...     cell_id     site_id\n",
              "0        Voice    0.0  ...  /TJNe+Mmtu  /TJNe+Mmtu\n",
              "1          sms    0.0  ...  /+cKZKIp41  /+cKZKIp41\n",
              "2          sms   25.0  ...  /u0FSD+ahi  /u0FSD+ahi\n",
              "3        Voice   56.0  ...  +cNeJzsTp3  +cNeJzsTp3\n",
              "4        Voice   14.0  ...  051KhYDCpv  051KhYDCpv\n",
              "...        ...    ...  ...         ...         ...\n",
              "240201     sms   50.0  ...  17ba194a62  6049499424\n",
              "240202     sms    0.0  ...  923c4e27ac  13c690c436\n",
              "240203     sms    0.0  ...  03ee801971  7f76d66503\n",
              "240204     sms    0.0  ...  c8ac59a7e2  012114d799\n",
              "240205     sms    0.0  ...         NaN         NaN\n",
              "\n",
              "[642790 rows x 8 columns]"
            ]
          },
          "metadata": {
            "tags": []
          },
          "execution_count": 14
        }
      ]
    },
    {
      "cell_type": "markdown",
      "metadata": {
        "id": "YFNgjXjmJego"
      },
      "source": [
        "Cleaning cells_geo.csv"
      ]
    },
    {
      "cell_type": "code",
      "metadata": {
        "colab": {
          "base_uri": "https://localhost:8080/",
          "height": 107
        },
        "id": "hoqV5mI5JTbe",
        "outputId": "87dbf50f-82f8-42e8-f58f-862d1ddb4cfd"
      },
      "source": [
        "#changing columns to lower case which will help in merging with df_all\n",
        "df.columns = map(str.lower, df.columns)\n",
        "df.head(2)"
      ],
      "execution_count": 15,
      "outputs": [
        {
          "output_type": "execute_result",
          "data": {
            "text/html": [
              "<div>\n",
              "<style scoped>\n",
              "    .dataframe tbody tr th:only-of-type {\n",
              "        vertical-align: middle;\n",
              "    }\n",
              "\n",
              "    .dataframe tbody tr th {\n",
              "        vertical-align: top;\n",
              "    }\n",
              "\n",
              "    .dataframe thead th {\n",
              "        text-align: right;\n",
              "    }\n",
              "</style>\n",
              "<table border=\"1\" class=\"dataframe\">\n",
              "  <thead>\n",
              "    <tr style=\"text-align: right;\">\n",
              "      <th></th>\n",
              "      <th>unnamed: 0</th>\n",
              "      <th>villes</th>\n",
              "      <th>status</th>\n",
              "      <th>localisation</th>\n",
              "      <th>decoupzone</th>\n",
              "      <th>zonename</th>\n",
              "      <th>longitude</th>\n",
              "      <th>latitude</th>\n",
              "      <th>region</th>\n",
              "      <th>area</th>\n",
              "      <th>cell_id</th>\n",
              "      <th>site_code</th>\n",
              "    </tr>\n",
              "  </thead>\n",
              "  <tbody>\n",
              "    <tr>\n",
              "      <th>0</th>\n",
              "      <td>0</td>\n",
              "      <td>ADJAME</td>\n",
              "      <td>In Service</td>\n",
              "      <td>ABIDJAN</td>\n",
              "      <td>\"Abidjan_EST</td>\n",
              "      <td>AGBANNEW</td>\n",
              "      <td>-4.000667</td>\n",
              "      <td>5.368194</td>\n",
              "      <td>LAGUNE</td>\n",
              "      <td>NaN</td>\n",
              "      <td>fbb2e75af3</td>\n",
              "      <td>0bb492ef17</td>\n",
              "    </tr>\n",
              "    <tr>\n",
              "      <th>1</th>\n",
              "      <td>1</td>\n",
              "      <td>ADJAME</td>\n",
              "      <td>In Service</td>\n",
              "      <td>ABIDJAN</td>\n",
              "      <td>\"Abidjan_EST</td>\n",
              "      <td>AGBANNEW</td>\n",
              "      <td>-4.000667</td>\n",
              "      <td>5.368194</td>\n",
              "      <td>LAGUNE</td>\n",
              "      <td>NaN</td>\n",
              "      <td>1502501d78</td>\n",
              "      <td>0bb492ef17</td>\n",
              "    </tr>\n",
              "  </tbody>\n",
              "</table>\n",
              "</div>"
            ],
            "text/plain": [
              "   unnamed: 0  villes      status  ... area     cell_id   site_code\n",
              "0           0  ADJAME  In Service  ...  NaN  fbb2e75af3  0bb492ef17\n",
              "1           1  ADJAME  In Service  ...  NaN  1502501d78  0bb492ef17\n",
              "\n",
              "[2 rows x 12 columns]"
            ]
          },
          "metadata": {
            "tags": []
          },
          "execution_count": 15
        }
      ]
    },
    {
      "cell_type": "code",
      "metadata": {
        "colab": {
          "base_uri": "https://localhost:8080/"
        },
        "id": "FAon_3-IKCyG",
        "outputId": "7d620e18-de2a-48fd-e793-afc0e0ebb275"
      },
      "source": [
        "#check for duplicates\n",
        "df.duplicated().sum()"
      ],
      "execution_count": null,
      "outputs": [
        {
          "output_type": "execute_result",
          "data": {
            "text/plain": [
              "0"
            ]
          },
          "metadata": {
            "tags": []
          },
          "execution_count": 79
        }
      ]
    },
    {
      "cell_type": "code",
      "metadata": {
        "colab": {
          "base_uri": "https://localhost:8080/",
          "height": 693
        },
        "id": "jXTIBnHaKQO-",
        "outputId": "c0f3cc36-c1b1-4af8-9a64-f3a951988b85"
      },
      "source": [
        "#drop duplicates\n",
        "df.drop_duplicates()"
      ],
      "execution_count": 16,
      "outputs": [
        {
          "output_type": "execute_result",
          "data": {
            "text/html": [
              "<div>\n",
              "<style scoped>\n",
              "    .dataframe tbody tr th:only-of-type {\n",
              "        vertical-align: middle;\n",
              "    }\n",
              "\n",
              "    .dataframe tbody tr th {\n",
              "        vertical-align: top;\n",
              "    }\n",
              "\n",
              "    .dataframe thead th {\n",
              "        text-align: right;\n",
              "    }\n",
              "</style>\n",
              "<table border=\"1\" class=\"dataframe\">\n",
              "  <thead>\n",
              "    <tr style=\"text-align: right;\">\n",
              "      <th></th>\n",
              "      <th>unnamed: 0</th>\n",
              "      <th>villes</th>\n",
              "      <th>status</th>\n",
              "      <th>localisation</th>\n",
              "      <th>decoupzone</th>\n",
              "      <th>zonename</th>\n",
              "      <th>longitude</th>\n",
              "      <th>latitude</th>\n",
              "      <th>region</th>\n",
              "      <th>area</th>\n",
              "      <th>cell_id</th>\n",
              "      <th>site_code</th>\n",
              "    </tr>\n",
              "  </thead>\n",
              "  <tbody>\n",
              "    <tr>\n",
              "      <th>0</th>\n",
              "      <td>0</td>\n",
              "      <td>ADJAME</td>\n",
              "      <td>In Service</td>\n",
              "      <td>ABIDJAN</td>\n",
              "      <td>\"Abidjan_EST</td>\n",
              "      <td>AGBANNEW</td>\n",
              "      <td>-4.000667</td>\n",
              "      <td>5.368194</td>\n",
              "      <td>LAGUNE</td>\n",
              "      <td>NaN</td>\n",
              "      <td>fbb2e75af3</td>\n",
              "      <td>0bb492ef17</td>\n",
              "    </tr>\n",
              "    <tr>\n",
              "      <th>1</th>\n",
              "      <td>1</td>\n",
              "      <td>ADJAME</td>\n",
              "      <td>In Service</td>\n",
              "      <td>ABIDJAN</td>\n",
              "      <td>\"Abidjan_EST</td>\n",
              "      <td>AGBANNEW</td>\n",
              "      <td>-4.000667</td>\n",
              "      <td>5.368194</td>\n",
              "      <td>LAGUNE</td>\n",
              "      <td>NaN</td>\n",
              "      <td>1502501d78</td>\n",
              "      <td>0bb492ef17</td>\n",
              "    </tr>\n",
              "    <tr>\n",
              "      <th>2</th>\n",
              "      <td>2</td>\n",
              "      <td>ADJAME</td>\n",
              "      <td>In Service</td>\n",
              "      <td>ABIDJAN</td>\n",
              "      <td>\"Abidjan_EST</td>\n",
              "      <td>AGBANNEW</td>\n",
              "      <td>-4.000667</td>\n",
              "      <td>5.368194</td>\n",
              "      <td>LAGUNE</td>\n",
              "      <td>NaN</td>\n",
              "      <td>0c2e182a0c</td>\n",
              "      <td>0bb492ef17</td>\n",
              "    </tr>\n",
              "    <tr>\n",
              "      <th>3</th>\n",
              "      <td>3</td>\n",
              "      <td>ASSINIE</td>\n",
              "      <td>In Service</td>\n",
              "      <td>INTERIEUR</td>\n",
              "      <td>Grand-EST</td>\n",
              "      <td>ASSINIE\"</td>\n",
              "      <td>-3.488467</td>\n",
              "      <td>5.158761</td>\n",
              "      <td>SUD COMOE</td>\n",
              "      <td>NaN</td>\n",
              "      <td>69bdfc69fd</td>\n",
              "      <td>8a1e6ce31f</td>\n",
              "    </tr>\n",
              "    <tr>\n",
              "      <th>4</th>\n",
              "      <td>4</td>\n",
              "      <td>ASSINIE</td>\n",
              "      <td>In Service</td>\n",
              "      <td>INTERIEUR</td>\n",
              "      <td>Grand-EST</td>\n",
              "      <td>ASSINIE\"</td>\n",
              "      <td>-3.488467</td>\n",
              "      <td>5.158761</td>\n",
              "      <td>SUD COMOE</td>\n",
              "      <td>NaN</td>\n",
              "      <td>7a1029d2ab</td>\n",
              "      <td>8a1e6ce31f</td>\n",
              "    </tr>\n",
              "    <tr>\n",
              "      <th>...</th>\n",
              "      <td>...</td>\n",
              "      <td>...</td>\n",
              "      <td>...</td>\n",
              "      <td>...</td>\n",
              "      <td>...</td>\n",
              "      <td>...</td>\n",
              "      <td>...</td>\n",
              "      <td>...</td>\n",
              "      <td>...</td>\n",
              "      <td>...</td>\n",
              "      <td>...</td>\n",
              "      <td>...</td>\n",
              "    </tr>\n",
              "    <tr>\n",
              "      <th>3969</th>\n",
              "      <td>3969</td>\n",
              "      <td>ZUENOULA</td>\n",
              "      <td>In Service</td>\n",
              "      <td>INTERIEUR</td>\n",
              "      <td>Grand-NORD</td>\n",
              "      <td>ZONE A - Grand-NORD</td>\n",
              "      <td>-6.039694</td>\n",
              "      <td>7.428611</td>\n",
              "      <td>MARAHOUE</td>\n",
              "      <td>CENTRE NORTH</td>\n",
              "      <td>1cfc2d7ab1</td>\n",
              "      <td>f91ed8d2e9</td>\n",
              "    </tr>\n",
              "    <tr>\n",
              "      <th>3970</th>\n",
              "      <td>3970</td>\n",
              "      <td>ZUENOULA</td>\n",
              "      <td>In Service</td>\n",
              "      <td>INTERIEUR</td>\n",
              "      <td>Grand-NORD</td>\n",
              "      <td>ZONE A - Grand-NORD</td>\n",
              "      <td>-6.039694</td>\n",
              "      <td>7.428611</td>\n",
              "      <td>MARAHOUE</td>\n",
              "      <td>CENTRE NORTH</td>\n",
              "      <td>3ae1708153</td>\n",
              "      <td>f91ed8d2e9</td>\n",
              "    </tr>\n",
              "    <tr>\n",
              "      <th>3971</th>\n",
              "      <td>3971</td>\n",
              "      <td>ZUENOULA</td>\n",
              "      <td>In Service</td>\n",
              "      <td>INTERIEUR</td>\n",
              "      <td>Grand-NORD</td>\n",
              "      <td>ZONE A - Grand-NORD</td>\n",
              "      <td>-6.065450</td>\n",
              "      <td>7.444592</td>\n",
              "      <td>MARAHOUE</td>\n",
              "      <td>CENTRE NORTH</td>\n",
              "      <td>cb71f8a29c</td>\n",
              "      <td>61bee9c70c</td>\n",
              "    </tr>\n",
              "    <tr>\n",
              "      <th>3972</th>\n",
              "      <td>3972</td>\n",
              "      <td>ZUENOULA</td>\n",
              "      <td>In Service</td>\n",
              "      <td>INTERIEUR</td>\n",
              "      <td>Grand-NORD</td>\n",
              "      <td>ZONE A - Grand-NORD</td>\n",
              "      <td>-6.065450</td>\n",
              "      <td>7.444592</td>\n",
              "      <td>MARAHOUE</td>\n",
              "      <td>CENTRE NORTH</td>\n",
              "      <td>d4a6a0b645</td>\n",
              "      <td>61bee9c70c</td>\n",
              "    </tr>\n",
              "    <tr>\n",
              "      <th>3973</th>\n",
              "      <td>3973</td>\n",
              "      <td>ZUENOULA</td>\n",
              "      <td>In Service</td>\n",
              "      <td>INTERIEUR</td>\n",
              "      <td>Grand-NORD</td>\n",
              "      <td>ZONE A - Grand-NORD</td>\n",
              "      <td>-6.065450</td>\n",
              "      <td>7.444592</td>\n",
              "      <td>MARAHOUE</td>\n",
              "      <td>CENTRE NORTH</td>\n",
              "      <td>f9f3e42589</td>\n",
              "      <td>61bee9c70c</td>\n",
              "    </tr>\n",
              "  </tbody>\n",
              "</table>\n",
              "<p>3974 rows × 12 columns</p>\n",
              "</div>"
            ],
            "text/plain": [
              "      unnamed: 0    villes      status  ...          area     cell_id   site_code\n",
              "0              0    ADJAME  In Service  ...           NaN  fbb2e75af3  0bb492ef17\n",
              "1              1    ADJAME  In Service  ...           NaN  1502501d78  0bb492ef17\n",
              "2              2    ADJAME  In Service  ...           NaN  0c2e182a0c  0bb492ef17\n",
              "3              3   ASSINIE  In Service  ...           NaN  69bdfc69fd  8a1e6ce31f\n",
              "4              4   ASSINIE  In Service  ...           NaN  7a1029d2ab  8a1e6ce31f\n",
              "...          ...       ...         ...  ...           ...         ...         ...\n",
              "3969        3969  ZUENOULA  In Service  ...  CENTRE NORTH  1cfc2d7ab1  f91ed8d2e9\n",
              "3970        3970  ZUENOULA  In Service  ...  CENTRE NORTH  3ae1708153  f91ed8d2e9\n",
              "3971        3971  ZUENOULA  In Service  ...  CENTRE NORTH  cb71f8a29c  61bee9c70c\n",
              "3972        3972  ZUENOULA  In Service  ...  CENTRE NORTH  d4a6a0b645  61bee9c70c\n",
              "3973        3973  ZUENOULA  In Service  ...  CENTRE NORTH  f9f3e42589  61bee9c70c\n",
              "\n",
              "[3974 rows x 12 columns]"
            ]
          },
          "metadata": {
            "tags": []
          },
          "execution_count": 16
        }
      ]
    },
    {
      "cell_type": "code",
      "metadata": {
        "id": "gzrE37suTakX"
      },
      "source": [
        ""
      ],
      "execution_count": null,
      "outputs": []
    },
    {
      "cell_type": "markdown",
      "metadata": {
        "id": "XrrVVaZ0Km_w"
      },
      "source": [
        "#Merged datasets"
      ]
    },
    {
      "cell_type": "code",
      "metadata": {
        "colab": {
          "base_uri": "https://localhost:8080/",
          "height": 211
        },
        "id": "hVZ2DFYNKvng",
        "outputId": "1e61bd3b-5aa0-45f0-84bf-29c3ab7854c4"
      },
      "source": [
        "#merging df1_all and df\n",
        "df2_all=pd.merge(df,df1_all, how='inner', left_on=['site_code'],right_on=['site_id'])\n",
        "df2_all.head(2)\n"
      ],
      "execution_count": 17,
      "outputs": [
        {
          "output_type": "execute_result",
          "data": {
            "text/html": [
              "<div>\n",
              "<style scoped>\n",
              "    .dataframe tbody tr th:only-of-type {\n",
              "        vertical-align: middle;\n",
              "    }\n",
              "\n",
              "    .dataframe tbody tr th {\n",
              "        vertical-align: top;\n",
              "    }\n",
              "\n",
              "    .dataframe thead th {\n",
              "        text-align: right;\n",
              "    }\n",
              "</style>\n",
              "<table border=\"1\" class=\"dataframe\">\n",
              "  <thead>\n",
              "    <tr style=\"text-align: right;\">\n",
              "      <th></th>\n",
              "      <th>unnamed: 0</th>\n",
              "      <th>villes</th>\n",
              "      <th>status</th>\n",
              "      <th>localisation</th>\n",
              "      <th>decoupzone</th>\n",
              "      <th>zonename</th>\n",
              "      <th>longitude</th>\n",
              "      <th>latitude</th>\n",
              "      <th>region</th>\n",
              "      <th>area</th>\n",
              "      <th>cell_id_x</th>\n",
              "      <th>site_code</th>\n",
              "      <th>product</th>\n",
              "      <th>value</th>\n",
              "      <th>date_time</th>\n",
              "      <th>cell_on_site</th>\n",
              "      <th>dw_a_number_int</th>\n",
              "      <th>dw_b_number_int</th>\n",
              "      <th>cell_id_y</th>\n",
              "      <th>site_id</th>\n",
              "    </tr>\n",
              "  </thead>\n",
              "  <tbody>\n",
              "    <tr>\n",
              "      <th>0</th>\n",
              "      <td>0</td>\n",
              "      <td>ADJAME</td>\n",
              "      <td>In Service</td>\n",
              "      <td>ABIDJAN</td>\n",
              "      <td>\"Abidjan_EST</td>\n",
              "      <td>AGBANNEW</td>\n",
              "      <td>-4.000667</td>\n",
              "      <td>5.368194</td>\n",
              "      <td>LAGUNE</td>\n",
              "      <td>NaN</td>\n",
              "      <td>fbb2e75af3</td>\n",
              "      <td>0bb492ef17</td>\n",
              "      <td>Voice</td>\n",
              "      <td>34.0</td>\n",
              "      <td>2012-05-07 00:00:58.0</td>\n",
              "      <td>2</td>\n",
              "      <td>e273a31201a46b8</td>\n",
              "      <td>4bd696f83bb5a7a</td>\n",
              "      <td>ac8f1ccb39</td>\n",
              "      <td>0bb492ef17</td>\n",
              "    </tr>\n",
              "    <tr>\n",
              "      <th>1</th>\n",
              "      <td>0</td>\n",
              "      <td>ADJAME</td>\n",
              "      <td>In Service</td>\n",
              "      <td>ABIDJAN</td>\n",
              "      <td>\"Abidjan_EST</td>\n",
              "      <td>AGBANNEW</td>\n",
              "      <td>-4.000667</td>\n",
              "      <td>5.368194</td>\n",
              "      <td>LAGUNE</td>\n",
              "      <td>NaN</td>\n",
              "      <td>fbb2e75af3</td>\n",
              "      <td>0bb492ef17</td>\n",
              "      <td>Voice</td>\n",
              "      <td>0.0</td>\n",
              "      <td>2012-05-07 00:10:31.0</td>\n",
              "      <td>0</td>\n",
              "      <td>07cd4ec8a884a8d</td>\n",
              "      <td>c5e2a767aabe0ac</td>\n",
              "      <td>16679571be</td>\n",
              "      <td>0bb492ef17</td>\n",
              "    </tr>\n",
              "  </tbody>\n",
              "</table>\n",
              "</div>"
            ],
            "text/plain": [
              "   unnamed: 0  villes      status  ...  dw_b_number_int   cell_id_y     site_id\n",
              "0           0  ADJAME  In Service  ...  4bd696f83bb5a7a  ac8f1ccb39  0bb492ef17\n",
              "1           0  ADJAME  In Service  ...  c5e2a767aabe0ac  16679571be  0bb492ef17\n",
              "\n",
              "[2 rows x 20 columns]"
            ]
          },
          "metadata": {
            "tags": []
          },
          "execution_count": 17
        }
      ]
    },
    {
      "cell_type": "markdown",
      "metadata": {
        "id": "ukW11eOIcqBp"
      },
      "source": [
        "Merging cell_geo_descrption.csv and CDR_descricption xlsx"
      ]
    },
    {
      "cell_type": "code",
      "metadata": {
        "colab": {
          "base_uri": "https://localhost:8080/",
          "height": 700
        },
        "id": "oDJcnqb4ZNT4",
        "outputId": "7010dfc0-88a4-48ae-86c4-f3f9b96bbf0e"
      },
      "source": [
        "df_all= pd.concat((df1 ,df2), axis=0)\n",
        "df_all"
      ],
      "execution_count": null,
      "outputs": [
        {
          "output_type": "execute_result",
          "data": {
            "text/html": [
              "<div>\n",
              "<style scoped>\n",
              "    .dataframe tbody tr th:only-of-type {\n",
              "        vertical-align: middle;\n",
              "    }\n",
              "\n",
              "    .dataframe tbody tr th {\n",
              "        vertical-align: top;\n",
              "    }\n",
              "\n",
              "    .dataframe thead th {\n",
              "        text-align: right;\n",
              "    }\n",
              "</style>\n",
              "<table border=\"1\" class=\"dataframe\">\n",
              "  <thead>\n",
              "    <tr style=\"text-align: right;\">\n",
              "      <th></th>\n",
              "      <th>Column name</th>\n",
              "      <th>Description</th>\n",
              "      <th>Format</th>\n",
              "    </tr>\n",
              "  </thead>\n",
              "  <tbody>\n",
              "    <tr>\n",
              "      <th>0</th>\n",
              "      <td>VILLES</td>\n",
              "      <td>City</td>\n",
              "      <td>String</td>\n",
              "    </tr>\n",
              "    <tr>\n",
              "      <th>1</th>\n",
              "      <td>STATUS</td>\n",
              "      <td>In Service or not</td>\n",
              "      <td>String</td>\n",
              "    </tr>\n",
              "    <tr>\n",
              "      <th>2</th>\n",
              "      <td>LOCALISATION</td>\n",
              "      <td>in ABIDJAN or not</td>\n",
              "      <td>String</td>\n",
              "    </tr>\n",
              "    <tr>\n",
              "      <th>3</th>\n",
              "      <td>DECOUPZONE</td>\n",
              "      <td>Geographical Zone</td>\n",
              "      <td>String</td>\n",
              "    </tr>\n",
              "    <tr>\n",
              "      <th>4</th>\n",
              "      <td>ZONENAME</td>\n",
              "      <td>Name of Zone</td>\n",
              "      <td>String</td>\n",
              "    </tr>\n",
              "    <tr>\n",
              "      <th>5</th>\n",
              "      <td>LONGITUDE</td>\n",
              "      <td>Longitude</td>\n",
              "      <td>Float</td>\n",
              "    </tr>\n",
              "    <tr>\n",
              "      <th>6</th>\n",
              "      <td>LATITUDE</td>\n",
              "      <td>Latitude</td>\n",
              "      <td>Float</td>\n",
              "    </tr>\n",
              "    <tr>\n",
              "      <th>7</th>\n",
              "      <td>REGION</td>\n",
              "      <td>Region</td>\n",
              "      <td>String</td>\n",
              "    </tr>\n",
              "    <tr>\n",
              "      <th>8</th>\n",
              "      <td>AREA</td>\n",
              "      <td>Area</td>\n",
              "      <td>String</td>\n",
              "    </tr>\n",
              "    <tr>\n",
              "      <th>9</th>\n",
              "      <td>CELL_ID</td>\n",
              "      <td>ID of the cell</td>\n",
              "      <td>String</td>\n",
              "    </tr>\n",
              "    <tr>\n",
              "      <th>10</th>\n",
              "      <td>SITE_CODE</td>\n",
              "      <td>Site (there are several cells per site, severa...</td>\n",
              "      <td>String</td>\n",
              "    </tr>\n",
              "    <tr>\n",
              "      <th>0</th>\n",
              "      <td>PRODUCT</td>\n",
              "      <td>Voice or SMS</td>\n",
              "      <td>String</td>\n",
              "    </tr>\n",
              "    <tr>\n",
              "      <th>1</th>\n",
              "      <td>VALUE</td>\n",
              "      <td>Billing price</td>\n",
              "      <td>Integer</td>\n",
              "    </tr>\n",
              "    <tr>\n",
              "      <th>2</th>\n",
              "      <td>DATE_TIME</td>\n",
              "      <td>Time in format yyyy-MM-dd hh:mm:ss.0</td>\n",
              "      <td>String</td>\n",
              "    </tr>\n",
              "    <tr>\n",
              "      <th>3</th>\n",
              "      <td>CELL_ON_SITE</td>\n",
              "      <td>Which cell in the site was used (not needed here)</td>\n",
              "      <td>Integer</td>\n",
              "    </tr>\n",
              "    <tr>\n",
              "      <th>4</th>\n",
              "      <td>DW_A_NUMBER_INT</td>\n",
              "      <td>Anonymized phone number of the person for whic...</td>\n",
              "      <td>String</td>\n",
              "    </tr>\n",
              "    <tr>\n",
              "      <th>5</th>\n",
              "      <td>DW_B_NUMBER_INT</td>\n",
              "      <td>Anonymized phone number of the counterparty</td>\n",
              "      <td>String</td>\n",
              "    </tr>\n",
              "    <tr>\n",
              "      <th>6</th>\n",
              "      <td>COUNTRY_A</td>\n",
              "      <td>Country of party A (useless here)</td>\n",
              "      <td>String</td>\n",
              "    </tr>\n",
              "    <tr>\n",
              "      <th>7</th>\n",
              "      <td>COUNTRY_B</td>\n",
              "      <td>Country of party B (useless here)</td>\n",
              "      <td>String</td>\n",
              "    </tr>\n",
              "    <tr>\n",
              "      <th>8</th>\n",
              "      <td>CELL_ID</td>\n",
              "      <td>ID of the cell</td>\n",
              "      <td>String</td>\n",
              "    </tr>\n",
              "    <tr>\n",
              "      <th>9</th>\n",
              "      <td>SITE_ID</td>\n",
              "      <td>ID of the SITE</td>\n",
              "      <td>String</td>\n",
              "    </tr>\n",
              "  </tbody>\n",
              "</table>\n",
              "</div>"
            ],
            "text/plain": [
              "        Column name                                        Description   Format\n",
              "0            VILLES                                               City   String\n",
              "1            STATUS                                  In Service or not   String\n",
              "2      LOCALISATION                                  in ABIDJAN or not   String\n",
              "3        DECOUPZONE                                  Geographical Zone   String\n",
              "4          ZONENAME                                       Name of Zone   String\n",
              "5         LONGITUDE                                          Longitude    Float\n",
              "6          LATITUDE                                           Latitude    Float\n",
              "7            REGION                                             Region   String\n",
              "8              AREA                                               Area   String\n",
              "9           CELL_ID                                     ID of the cell   String\n",
              "10        SITE_CODE  Site (there are several cells per site, severa...   String\n",
              "0           PRODUCT                                       Voice or SMS   String\n",
              "1             VALUE                                      Billing price  Integer\n",
              "2         DATE_TIME               Time in format yyyy-MM-dd hh:mm:ss.0   String\n",
              "3      CELL_ON_SITE  Which cell in the site was used (not needed here)  Integer\n",
              "4   DW_A_NUMBER_INT  Anonymized phone number of the person for whic...   String\n",
              "5   DW_B_NUMBER_INT        Anonymized phone number of the counterparty   String\n",
              "6         COUNTRY_A                  Country of party A (useless here)   String\n",
              "7         COUNTRY_B                  Country of party B (useless here)   String\n",
              "8           CELL_ID                                     ID of the cell   String\n",
              "9           SITE_ID                                     ID of the SITE   String"
            ]
          },
          "metadata": {
            "tags": []
          },
          "execution_count": 52
        }
      ]
    },
    {
      "cell_type": "markdown",
      "metadata": {
        "id": "k0f-xwiWlNK_"
      },
      "source": [
        "# Data Analysis"
      ]
    },
    {
      "cell_type": "code",
      "metadata": {
        "colab": {
          "base_uri": "https://localhost:8080/"
        },
        "id": "m-4tsB6pMhX_",
        "outputId": "4e8fcb37-1843-4cf7-eb7f-8eef5b434348"
      },
      "source": [
        "#which one were the most used cities for the three days\n",
        "df2_all.groupby('villes')['value'].sum().sort_values(ascending=False).head(5)\n"
      ],
      "execution_count": 23,
      "outputs": [
        {
          "output_type": "execute_result",
          "data": {
            "text/plain": [
              "villes\n",
              "COCODY         5183034.0\n",
              "YOPOUGON       4853168.0\n",
              "ABOBO          3047963.0\n",
              "MARCORY        2480697.0\n",
              "TREICHVILLE    2098676.0\n",
              "Name: value, dtype: float64"
            ]
          },
          "metadata": {
            "tags": []
          },
          "execution_count": 23
        }
      ]
    },
    {
      "cell_type": "code",
      "metadata": {
        "colab": {
          "base_uri": "https://localhost:8080/"
        },
        "id": "FN2ujn7rtHrA",
        "outputId": "c3b226fb-5767-435f-997b-8d2520daea33"
      },
      "source": [
        "#most used city for for the 3 three days\n",
        "df2_all.groupby('villes')['value'].sum().sort_values(ascending=False).head(1)\n"
      ],
      "execution_count": 24,
      "outputs": [
        {
          "output_type": "execute_result",
          "data": {
            "text/plain": [
              "villes\n",
              "COCODY    5183034.0\n",
              "Name: value, dtype: float64"
            ]
          },
          "metadata": {
            "tags": []
          },
          "execution_count": 24
        }
      ]
    },
    {
      "cell_type": "code",
      "metadata": {
        "colab": {
          "base_uri": "https://localhost:8080/"
        },
        "id": "kPcZrqtYlWkE",
        "outputId": "d95b7f9f-134e-4de5-ed20-2b5195223c95"
      },
      "source": [
        "#Which ones were the most used products for the three days\n",
        "import numpy as np\n",
        "df2_all.groupby('product')['product'].count()\n"
      ],
      "execution_count": 28,
      "outputs": [
        {
          "output_type": "execute_result",
          "data": {
            "text/plain": [
              "product\n",
              "Voice     987155\n",
              "sms      1554780\n",
              "Name: product, dtype: int64"
            ]
          },
          "metadata": {
            "tags": []
          },
          "execution_count": 28
        }
      ]
    },
    {
      "cell_type": "code",
      "metadata": {
        "id": "PuwbUVhPmTD0",
        "colab": {
          "base_uri": "https://localhost:8080/"
        },
        "outputId": "9e33f161-1b78-4c3d-e8f4-4e229a7cbee6"
      },
      "source": [
        "#sites which were most used\n",
        "df2_all['site_id'].value_counts().sort_values(ascending=False).head(5)"
      ],
      "execution_count": 33,
      "outputs": [
        {
          "output_type": "execute_result",
          "data": {
            "text/plain": [
              "b47a998a3e    73602\n",
              "928a59b635    45477\n",
              "7f76d66503    35538\n",
              "5c565fbfb1    26514\n",
              "bc58a52936    25362\n",
              "Name: site_id, dtype: int64"
            ]
          },
          "metadata": {
            "tags": []
          },
          "execution_count": 33
        }
      ]
    },
    {
      "cell_type": "code",
      "metadata": {
        "colab": {
          "base_uri": "https://localhost:8080/",
          "height": 287
        },
        "id": "ClkYGZa3Gjci",
        "outputId": "13eab59a-ad53-449d-ea24-332ed29a41a9"
      },
      "source": [
        "#descriptive analysis for df2_all\n",
        "df2_all.describe()"
      ],
      "execution_count": 34,
      "outputs": [
        {
          "output_type": "execute_result",
          "data": {
            "text/html": [
              "<div>\n",
              "<style scoped>\n",
              "    .dataframe tbody tr th:only-of-type {\n",
              "        vertical-align: middle;\n",
              "    }\n",
              "\n",
              "    .dataframe tbody tr th {\n",
              "        vertical-align: top;\n",
              "    }\n",
              "\n",
              "    .dataframe thead th {\n",
              "        text-align: right;\n",
              "    }\n",
              "</style>\n",
              "<table border=\"1\" class=\"dataframe\">\n",
              "  <thead>\n",
              "    <tr style=\"text-align: right;\">\n",
              "      <th></th>\n",
              "      <th>unnamed: 0</th>\n",
              "      <th>longitude</th>\n",
              "      <th>latitude</th>\n",
              "      <th>value</th>\n",
              "    </tr>\n",
              "  </thead>\n",
              "  <tbody>\n",
              "    <tr>\n",
              "      <th>count</th>\n",
              "      <td>2.541935e+06</td>\n",
              "      <td>2.541935e+06</td>\n",
              "      <td>2.541935e+06</td>\n",
              "      <td>2.541935e+06</td>\n",
              "    </tr>\n",
              "    <tr>\n",
              "      <th>mean</th>\n",
              "      <td>2.004078e+03</td>\n",
              "      <td>-4.637755e+00</td>\n",
              "      <td>5.897262e+00</td>\n",
              "      <td>1.562228e+01</td>\n",
              "    </tr>\n",
              "    <tr>\n",
              "      <th>std</th>\n",
              "      <td>1.234859e+03</td>\n",
              "      <td>1.057480e+00</td>\n",
              "      <td>1.003965e+00</td>\n",
              "      <td>8.573648e+01</td>\n",
              "    </tr>\n",
              "    <tr>\n",
              "      <th>min</th>\n",
              "      <td>0.000000e+00</td>\n",
              "      <td>-8.503889e+00</td>\n",
              "      <td>0.000000e+00</td>\n",
              "      <td>0.000000e+00</td>\n",
              "    </tr>\n",
              "    <tr>\n",
              "      <th>25%</th>\n",
              "      <td>9.660000e+02</td>\n",
              "      <td>-5.260333e+00</td>\n",
              "      <td>5.335306e+00</td>\n",
              "      <td>0.000000e+00</td>\n",
              "    </tr>\n",
              "    <tr>\n",
              "      <th>50%</th>\n",
              "      <td>2.075000e+03</td>\n",
              "      <td>-4.063111e+00</td>\n",
              "      <td>5.389417e+00</td>\n",
              "      <td>0.000000e+00</td>\n",
              "    </tr>\n",
              "    <tr>\n",
              "      <th>75%</th>\n",
              "      <td>3.108000e+03</td>\n",
              "      <td>-4.005583e+00</td>\n",
              "      <td>6.144944e+00</td>\n",
              "      <td>2.000000e+00</td>\n",
              "    </tr>\n",
              "    <tr>\n",
              "      <th>max</th>\n",
              "      <td>3.973000e+03</td>\n",
              "      <td>-0.000000e+00</td>\n",
              "      <td>1.044132e+01</td>\n",
              "      <td>1.419300e+04</td>\n",
              "    </tr>\n",
              "  </tbody>\n",
              "</table>\n",
              "</div>"
            ],
            "text/plain": [
              "         unnamed: 0     longitude      latitude         value\n",
              "count  2.541935e+06  2.541935e+06  2.541935e+06  2.541935e+06\n",
              "mean   2.004078e+03 -4.637755e+00  5.897262e+00  1.562228e+01\n",
              "std    1.234859e+03  1.057480e+00  1.003965e+00  8.573648e+01\n",
              "min    0.000000e+00 -8.503889e+00  0.000000e+00  0.000000e+00\n",
              "25%    9.660000e+02 -5.260333e+00  5.335306e+00  0.000000e+00\n",
              "50%    2.075000e+03 -4.063111e+00  5.389417e+00  0.000000e+00\n",
              "75%    3.108000e+03 -4.005583e+00  6.144944e+00  2.000000e+00\n",
              "max    3.973000e+03 -0.000000e+00  1.044132e+01  1.419300e+04"
            ]
          },
          "metadata": {
            "tags": []
          },
          "execution_count": 34
        }
      ]
    },
    {
      "cell_type": "code",
      "metadata": {
        "colab": {
          "base_uri": "https://localhost:8080/"
        },
        "id": "DZt_dIahLzNG",
        "outputId": "60597dd6-d2c9-4066-a033-4a15d24afc44"
      },
      "source": [
        "#information about df2_all dataset\n",
        "df2_all.info()"
      ],
      "execution_count": 35,
      "outputs": [
        {
          "output_type": "stream",
          "text": [
            "<class 'pandas.core.frame.DataFrame'>\n",
            "Int64Index: 2541935 entries, 0 to 2541934\n",
            "Data columns (total 20 columns):\n",
            " #   Column           Dtype  \n",
            "---  ------           -----  \n",
            " 0   unnamed: 0       int64  \n",
            " 1   villes           object \n",
            " 2   status           object \n",
            " 3   localisation     object \n",
            " 4   decoupzone       object \n",
            " 5   zonename         object \n",
            " 6   longitude        float64\n",
            " 7   latitude         float64\n",
            " 8   region           object \n",
            " 9   area             object \n",
            " 10  cell_id_x        object \n",
            " 11  site_code        object \n",
            " 12  product          object \n",
            " 13  value            float64\n",
            " 14  date_time        object \n",
            " 15  cell_on_site     object \n",
            " 16  dw_a_number_int  object \n",
            " 17  dw_b_number_int  object \n",
            " 18  cell_id_y        object \n",
            " 19  site_id          object \n",
            "dtypes: float64(3), int64(1), object(16)\n",
            "memory usage: 407.3+ MB\n"
          ],
          "name": "stdout"
        }
      ]
    },
    {
      "cell_type": "code",
      "metadata": {
        "id": "4QMpJEHvMn9m"
      },
      "source": [
        ""
      ],
      "execution_count": null,
      "outputs": []
    }
  ]
}